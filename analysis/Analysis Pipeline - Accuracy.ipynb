{
 "cells": [
  {
   "cell_type": "markdown",
   "id": "87bcaf59",
   "metadata": {},
   "source": [
    "## ANOVA One-Way Tests and Permutation Tests"
   ]
  },
  {
   "cell_type": "code",
   "execution_count": 1,
   "id": "ec78f7b1",
   "metadata": {},
   "outputs": [],
   "source": [
    "import matplotlib.pyplot as plt\n",
    "import numpy as np\n",
    "import pandas as pd\n",
    "import seaborn as sns\n",
    "import warnings\n",
    "warnings.simplefilter(action='ignore', category=FutureWarning)\n",
    "\n",
    "import scipy.stats as stats\n",
    "import statsmodels.api as sm\n",
    "from statsmodels.formula.api import ols"
   ]
  },
  {
   "cell_type": "markdown",
   "id": "79058c16",
   "metadata": {},
   "source": [
    "#### Data Preparation"
   ]
  },
  {
   "cell_type": "code",
   "execution_count": 2,
   "id": "0656425f",
   "metadata": {},
   "outputs": [],
   "source": [
    "# task dictionary\n",
    "task_dict = {\n",
    "    'stroop_vanilla': 'task-td7i',\n",
    "    'stroop_progressbar': 'task-lupf',\n",
    "    'stroop_eyes': 'task-c9op',\n",
    "#     'stroop_video': 'task-najf',\n",
    "    'stroop_posneg': 'task-on6n',\n",
    "    'stroop_final': 'task-7g42',\n",
    "    'stroop_bonus': 'task-3kpz',\n",
    "    'rdk_vanilla': 'task-2ywa',\n",
    "    'rdk_progressbar': 'task-sks3',\n",
    "    'rdk_eyes': 'task-zyvq',\n",
    "#     'rdk_video': 'task-6e3k',\n",
    "    'rdk_posneg': 'task-ivrk',\n",
    "    'rdk_final': 'task-sq3v',\n",
    "    'rdk_bonus': 'task-hvii',\n",
    "    'bandit_vanilla': 'task-dwkr',\n",
    "    'bandit_progressbar': 'task-25bt',\n",
    "    'bandit_eyes': 'task-x158',\n",
    "#     'bandit_video': 'task-9ndm',\n",
    "    'bandit_posneg': 'task-tzk1',\n",
    "    'bandit_final': 'task-gn7s',\n",
    "    'bandit_bonus': 'task-iaas',\n",
    "}\n",
    "\n",
    "# task-separated arrays\n",
    "# stroop_arr = [\"stroop_vanilla\", \"stroop_progressbar\", \"stroop_eyes\", \"stroop_video\", \"stroop_posneg\", \"stroop_final\", \"stroop_bonus\"]\n",
    "# rdk_arr = [\"rdk_vanilla\", \"rdk_progressbar\", \"rdk_eyes\", \"rdk_video\", \"rdk_posneg\", \"rdk_final\", \"rdk_bonus\"]\n",
    "# bandit_arr = [\"bandit_vanilla\", \"bandit_progressbar\", \"bandit_eyes\", \"bandit_video\", \"bandit_posneg\", \"bandit_final\", \"bandit_bonus\"]\n",
    "stroop_arr = [\"stroop_vanilla\", \"stroop_progressbar\", \"stroop_eyes\", \"stroop_posneg\", \"stroop_final\", \"stroop_bonus\"]\n",
    "rdk_arr = [\"rdk_vanilla\", \"rdk_progressbar\", \"rdk_eyes\", \"rdk_posneg\", \"rdk_final\", \"rdk_bonus\"]\n",
    "bandit_arr = [\"bandit_vanilla\", \"bandit_progressbar\", \"bandit_eyes\", \"bandit_posneg\", \"bandit_final\", \"bandit_bonus\"]"
   ]
  },
  {
   "cell_type": "code",
   "execution_count": 3,
   "id": "3f18fa8c",
   "metadata": {},
   "outputs": [
    {
     "name": "stderr",
     "output_type": "stream",
     "text": [
      "C:\\Users\\Devank\\AppData\\Local\\Temp/ipykernel_24036/2369746899.py:4: DtypeWarning: Columns (0,58) have mixed types. Specify dtype option on import or set low_memory=False.\n",
      "  stroop_df = pd.read_csv('./data_exp_99963-v4/data_exp_99963-v4_' + task_dict[manip] + '.csv')\n",
      "C:\\Users\\Devank\\AppData\\Local\\Temp/ipykernel_24036/2369746899.py:26: DtypeWarning: Columns (0) have mixed types. Specify dtype option on import or set low_memory=False.\n",
      "  rdk_df = pd.read_csv('./data_exp_99963-v4/data_exp_99963-v4_' + task_dict[manip] + '.csv')\n",
      "C:\\Users\\Devank\\AppData\\Local\\Temp/ipykernel_24036/2369746899.py:49: DtypeWarning: Columns (0,58) have mixed types. Specify dtype option on import or set low_memory=False.\n",
      "  bandit_df = pd.read_csv('./data_exp_99963-v4/data_exp_99963-v4_' + task_dict[manip] + '.csv')\n"
     ]
    }
   ],
   "source": [
    "stroop_list = []\n",
    "\n",
    "for manip in stroop_arr:\n",
    "    stroop_df = pd.read_csv('./data_exp_99963-v4/data_exp_99963-v4_' + task_dict[manip] + '.csv')\n",
    "    stroop_df.drop(stroop_df[stroop_df['Event Index'] == 'END OF FILE'].index, inplace = True)\n",
    "    stroop_list.append(stroop_df)\n",
    "    \n",
    "# for manip in stroop_arr:\n",
    "#     stroop_df = pd.read_csv('./data_exp_96489-v3/data_exp_96489-v3_' + task_dict[manip] + '.csv')\n",
    "#     stroop_df.drop(stroop_df[stroop_df['Event Index'] == 'END OF FILE'].index, inplace = True)\n",
    "#     stroop_list.append(stroop_df)\n",
    "    \n",
    "stroop_df = pd.concat(stroop_list)\n",
    "stroop_df = stroop_df[[\n",
    "    \"Tree Node Key\",\n",
    "    \"Participant Private ID\",\n",
    "    \"Screen Name\",\n",
    "    \"Attempt\",\n",
    "    \"Correct\",\n",
    "    \"Incorrect\"\n",
    "]]\n",
    "\n",
    "rdk_list = []\n",
    "\n",
    "for manip in rdk_arr:\n",
    "    rdk_df = pd.read_csv('./data_exp_99963-v4/data_exp_99963-v4_' + task_dict[manip] + '.csv')\n",
    "    rdk_df.drop(rdk_df[rdk_df['Event Index'] == 'END OF FILE'].index, inplace = True)\n",
    "    rdk_list.append(rdk_df)\n",
    "    \n",
    "# for manip in rdk_arr:\n",
    "#     rdk_df = pd.read_csv('./data_exp_96489-v3/data_exp_96489-v3_' + task_dict[manip] + '.csv')\n",
    "#     rdk_df.drop(rdk_df[rdk_df['Event Index'] == 'END OF FILE'].index, inplace = True)\n",
    "#     rdk_list.append(rdk_df)\n",
    "    \n",
    "rdk_df = pd.concat(rdk_list)\n",
    "rdk_df = rdk_df[[\n",
    "    \"Tree Node Key\",\n",
    "    \"Participant Private ID\",\n",
    "    \"Screen Name\",\n",
    "    \"Attempt\",\n",
    "    \"Correct\",\n",
    "    \"Incorrect\"\n",
    "]]\n",
    "\n",
    "\n",
    "bandit_list = []\n",
    "\n",
    "for manip in bandit_arr:\n",
    "    bandit_df = pd.read_csv('./data_exp_99963-v4/data_exp_99963-v4_' + task_dict[manip] + '.csv')\n",
    "    bandit_df.drop(bandit_df[bandit_df['Event Index'] == 'END OF FILE'].index, inplace = True)\n",
    "    bandit_list.append(bandit_df)\n",
    "    \n",
    "# for manip in bandit_arr:\n",
    "#     bandit_df = pd.read_csv('./data_exp_96489-v3/data_exp_96489-v3_' + task_dict[manip] + '.csv')\n",
    "#     bandit_df.drop(bandit_df[bandit_df['Event Index'] == 'END OF FILE'].index, inplace = True)\n",
    "#     bandit_list.append(bandit_df)\n",
    "    \n",
    "bandit_df = pd.concat(bandit_list)\n",
    "bandit_df = bandit_df[[\n",
    "    \"Tree Node Key\",\n",
    "    \"Participant Private ID\",\n",
    "    \"Screen Name\",\n",
    "    \"Attempt\",\n",
    "    \"Correct\",\n",
    "    \"Incorrect\"\n",
    "]]"
   ]
  },
  {
   "cell_type": "code",
   "execution_count": 4,
   "id": "64410373",
   "metadata": {},
   "outputs": [],
   "source": [
    "def accuracy_df_builder(df, arr, task):\n",
    "    \n",
    "    performance_df = pd.DataFrame(columns=['Participant', 'Task', 'Manipulation', 'Accuracy'])\n",
    "    for manip in arr:\n",
    "\n",
    "        focus_df = df[df['Tree Node Key'] == task_dict[manip]]\n",
    "        participants = focus_df['Participant Private ID'].unique().tolist()\n",
    "        if len(participants) < 1:\n",
    "            accuracies.append(overall_accuracy)\n",
    "            continue\n",
    "        \n",
    "        for participant in participants:\n",
    "            participant_df = focus_df[focus_df['Participant Private ID'] == participant]\n",
    "            participant_df = participant_df[participant_df['Screen Name'] == 'trial'][['Attempt', 'Correct', 'Incorrect']]\n",
    "\n",
    "            if participant_df.empty:\n",
    "                participants.remove(participant)\n",
    "                continue\n",
    "\n",
    "            # for timeouts\n",
    "            participant_df['Attempt'].fillna(0, inplace = True)\n",
    "            \n",
    "            accuracy = participant_df['Correct'].sum() * 100 / len(participant_df)\n",
    "            performance_df = performance_df.append({\n",
    "                'Participant': participant,\n",
    "                'Task': task,\n",
    "                'Manipulation': manip,\n",
    "                'Accuracy': accuracy\n",
    "            }, ignore_index=True)\n",
    "            \n",
    "    return performance_df"
   ]
  },
  {
   "cell_type": "code",
   "execution_count": 5,
   "id": "5ba4ef52",
   "metadata": {},
   "outputs": [],
   "source": [
    "def sample_equal_rows(df, column, count):\n",
    "    \n",
    "    new_df = pd.DataFrame(columns=df.columns)\n",
    "    for value in df[column].unique():\n",
    "        new_df = new_df.append(df[df[column] == value].sample(count))\n",
    "    return new_df"
   ]
  },
  {
   "cell_type": "code",
   "execution_count": 33,
   "id": "7ba4cbcb",
   "metadata": {},
   "outputs": [],
   "source": [
    "stroop_acc_df = accuracy_df_builder(stroop_df, stroop_arr, \"Stroop\")\n",
    "rdk_acc_df = accuracy_df_builder(rdk_df, rdk_arr, \"RDK\")\n",
    "bandit_acc_df = accuracy_df_builder(bandit_df, bandit_arr, \"Bandit\")\n",
    "\n",
    "performance_df = pd.concat([stroop_acc_df, rdk_acc_df, bandit_acc_df])\n",
    "performance_df.reset_index(inplace=True)\n",
    "performance_df = performance_df.drop(performance_df[performance_df[\"Task\"] == \"Stroop\"].index)"
   ]
  },
  {
   "cell_type": "markdown",
   "id": "24528276",
   "metadata": {},
   "source": [
    "#### I. Comparing different tasks across manipulations\n",
    "\n",
    "$H_0$: The mean performance of participants is statisitically similar for all three tasks (Stroop, RDK, bandit).\n",
    "\n",
    "$H_a$: The mean performance of participants is significantly dissimilar for different tasks."
   ]
  },
  {
   "cell_type": "code",
   "execution_count": 34,
   "id": "52f63819",
   "metadata": {},
   "outputs": [
    {
     "data": {
      "image/png": "[encoded data removed]",
      "text/plain": [
       "<Figure size 864x576 with 1 Axes>"
      ]
     },
     "metadata": {
      "needs_background": "light"
     },
     "output_type": "display_data"
    }
   ],
   "source": [
    "task_min_count = min(performance_df[\"Task\"].value_counts())\n",
    "task_performance_df = sample_equal_rows(performance_df, \"Task\", task_min_count)\n",
    "\n",
    "fig = plt.figure(figsize=(12,8))\n",
    "ax = sns.boxplot(x='Task', y='Accuracy', data=task_performance_df, color='#99c2a2')\n",
    "ax = sns.swarmplot(x=\"Task\", y=\"Accuracy\", data=task_performance_df, color='#7d0013')\n",
    "plt.show()"
   ]
  },
  {
   "cell_type": "code",
   "execution_count": 35,
   "id": "a8f697ab",
   "metadata": {},
   "outputs": [
    {
     "data": {
      "image/png": "[encoded data removed]",
      "text/plain": [
       "<Figure size 1080x360 with 3 Axes>"
      ]
     },
     "metadata": {
      "needs_background": "light"
     },
     "output_type": "display_data"
    }
   ],
   "source": [
    "# fig = sm.qqplot(task_performance_df[task_performance_df[\"Task\"] == \"Stroop\"][\"Accuracy\"], line='45')\n",
    "fig = plt.figure(figsize=(15, 5))\n",
    "plt.subplot(1,3,1)\n",
    "plt.hist(task_performance_df[task_performance_df[\"Task\"] == \"Stroop\"][\"Accuracy\"], edgecolor='black', bins=20)\n",
    "plt.title(\"Stroop\")\n",
    "plt.subplot(1,3,2)\n",
    "plt.hist(task_performance_df[task_performance_df[\"Task\"] == \"RDK\"][\"Accuracy\"], edgecolor='black', bins=20)\n",
    "plt.title(\"RDK\")\n",
    "plt.subplot(1,3,3)\n",
    "plt.hist(task_performance_df[task_performance_df[\"Task\"] == \"Bandit\"][\"Accuracy\"], edgecolor='black', bins=20)\n",
    "plt.title(\"Bandit\")\n",
    "plt.show()"
   ]
  },
  {
   "cell_type": "code",
   "execution_count": 36,
   "id": "56305330",
   "metadata": {},
   "outputs": [
    {
     "name": "stdout",
     "output_type": "stream",
     "text": [
      "ShapiroResult(statistic=0.9836644530296326, pvalue=0.10389432311058044)\n"
     ]
    }
   ],
   "source": [
    "model1 = ols('Accuracy ~ Task', data=task_performance_df).fit()\n",
    "# test for normality - FAILED\n",
    "print(stats.shapiro(model1.resid))\n"
   ]
  },
  {
   "cell_type": "code",
   "execution_count": 37,
   "id": "b757e250",
   "metadata": {},
   "outputs": [
    {
     "data": {
      "image/png": "[encoded data removed]",
      "text/plain": [
       "<Figure size 720x720 with 1 Axes>"
      ]
     },
     "metadata": {
      "needs_background": "light"
     },
     "output_type": "display_data"
    }
   ],
   "source": [
    "# another test for normality\n",
    "\n",
    "fig = plt.figure(figsize= (10, 10))\n",
    "ax = fig.add_subplot(111)\n",
    "\n",
    "normality_plot, stat = stats.probplot(model1.resid, plot=plt, rvalue= True)\n",
    "ax.set_title(\"Probability plot of model residual's\", fontsize= 20)\n",
    "ax.set\n",
    "\n",
    "plt.show()"
   ]
  },
  {
   "cell_type": "code",
   "execution_count": 38,
   "id": "8170f23e",
   "metadata": {},
   "outputs": [
    {
     "data": {
      "text/html": [
       "<div>\n",
       "<style scoped>\n",
       "    .dataframe tbody tr th:only-of-type {\n",
       "        vertical-align: middle;\n",
       "    }\n",
       "\n",
       "    .dataframe tbody tr th {\n",
       "        vertical-align: top;\n",
       "    }\n",
       "\n",
       "    .dataframe thead th {\n",
       "        text-align: right;\n",
       "    }\n",
       "</style>\n",
       "<table border=\"1\" class=\"dataframe\">\n",
       "  <thead>\n",
       "    <tr style=\"text-align: right;\">\n",
       "      <th></th>\n",
       "      <th>sum_sq</th>\n",
       "      <th>df</th>\n",
       "      <th>F</th>\n",
       "      <th>PR(&gt;F)</th>\n",
       "    </tr>\n",
       "  </thead>\n",
       "  <tbody>\n",
       "    <tr>\n",
       "      <th>Task</th>\n",
       "      <td>30805.881671</td>\n",
       "      <td>1.0</td>\n",
       "      <td>664.483382</td>\n",
       "      <td>8.730398e-54</td>\n",
       "    </tr>\n",
       "    <tr>\n",
       "      <th>Residual</th>\n",
       "      <td>6212.327134</td>\n",
       "      <td>134.0</td>\n",
       "      <td>NaN</td>\n",
       "      <td>NaN</td>\n",
       "    </tr>\n",
       "  </tbody>\n",
       "</table>\n",
       "</div>"
      ],
      "text/plain": [
       "                sum_sq     df           F        PR(>F)\n",
       "Task      30805.881671    1.0  664.483382  8.730398e-54\n",
       "Residual   6212.327134  134.0         NaN           NaN"
      ]
     },
     "execution_count": 38,
     "metadata": {},
     "output_type": "execute_result"
    }
   ],
   "source": [
    "anova_table = sm.stats.anova_lm(model1, typ=2)\n",
    "anova_table"
   ]
  },
  {
   "cell_type": "markdown",
   "id": "9b5cea91",
   "metadata": {},
   "source": [
    "###### How to interpret these results?"
   ]
  },
  {
   "cell_type": "markdown",
   "id": "89ac8892",
   "metadata": {},
   "source": [
    "#### II. Comparing different manipulations across tasks\n",
    "\n",
    "$H_0$: The mean performance of participants is statisitically similar for all seven manipulations.\n",
    "\n",
    "$H_a$: The mean performance of participants is significantly dissimilar for different manipulations."
   ]
  },
  {
   "cell_type": "code",
   "execution_count": 12,
   "id": "2de900d8",
   "metadata": {},
   "outputs": [
    {
     "data": {
      "image/png": "[encoded data removed]",
      "text/plain": [
       "<Figure size 1080x360 with 1 Axes>"
      ]
     },
     "metadata": {
      "needs_background": "light"
     },
     "output_type": "display_data"
    }
   ],
   "source": [
    "manip_performance_df = performance_df\n",
    "manip_performance_df = manip_performance_df.replace('rdk_', '', regex=True)\n",
    "manip_performance_df = manip_performance_df.replace('stroop_', '', regex=True)\n",
    "manip_performance_df = manip_performance_df.replace('bandit_', '', regex=True)\n",
    "\n",
    "manip_min_count = min(manip_performance_df[\"Manipulation\"].value_counts())\n",
    "manip_performance_df = sample_equal_rows(manip_performance_df, \"Manipulation\", manip_min_count)\n",
    "\n",
    "fig = plt.figure(figsize=(15,5))\n",
    "ax = sns.boxplot(x='Manipulation', y='Accuracy', data=manip_performance_df, color='#99c2a2')\n",
    "ax = sns.swarmplot(x=\"Manipulation\", y=\"Accuracy\", data=manip_performance_df, color='#7d0013')\n",
    "plt.show()"
   ]
  },
  {
   "cell_type": "code",
   "execution_count": 13,
   "id": "343335d4",
   "metadata": {},
   "outputs": [
    {
     "data": {
      "image/png": "[encoded data removed]",
      "text/plain": [
       "<Figure size 1080x720 with 6 Axes>"
      ]
     },
     "metadata": {
      "needs_background": "light"
     },
     "output_type": "display_data"
    }
   ],
   "source": [
    "fig = plt.figure(figsize=(15, 10))\n",
    "plt.subplot(2,3,1)\n",
    "plt.hist(manip_performance_df[manip_performance_df[\"Manipulation\"] == \"vanilla\"][\"Accuracy\"], edgecolor='black', bins=20)\n",
    "plt.title(\"Vanilla\")\n",
    "plt.subplot(2,3,2)\n",
    "plt.hist(manip_performance_df[manip_performance_df[\"Manipulation\"] == \"progressbar\"][\"Accuracy\"], edgecolor='black', bins=20)\n",
    "plt.title(\"ProgressBar\")\n",
    "plt.subplot(2,3,3)\n",
    "plt.hist(manip_performance_df[manip_performance_df[\"Manipulation\"] == \"eyes\"][\"Accuracy\"], edgecolor='black', bins=20)\n",
    "plt.title(\"Eyes\")\n",
    "plt.subplot(2,3,4)\n",
    "plt.hist(manip_performance_df[manip_performance_df[\"Manipulation\"] == \"posneg\"][\"Accuracy\"], edgecolor='black', bins=20)\n",
    "plt.title(\"PosNegFeedback\")\n",
    "plt.subplot(2,3,5)\n",
    "plt.hist(manip_performance_df[manip_performance_df[\"Manipulation\"] == \"final\"][\"Accuracy\"], edgecolor='black', bins=20)\n",
    "plt.title(\"FinalFeedback\")\n",
    "plt.subplot(2,3,6)\n",
    "plt.hist(manip_performance_df[manip_performance_df[\"Manipulation\"] == \"bonus\"][\"Accuracy\"], edgecolor='black', bins=20)\n",
    "plt.title(\"Bonus\")\n",
    "plt.show()"
   ]
  },
  {
   "cell_type": "code",
   "execution_count": 14,
   "id": "ce5b08f1",
   "metadata": {},
   "outputs": [
    {
     "name": "stdout",
     "output_type": "stream",
     "text": [
      "ShapiroResult(statistic=0.9318960309028625, pvalue=0.002392195863649249)\n"
     ]
    }
   ],
   "source": [
    "model2 = ols('Accuracy ~ Manipulation', data=manip_performance_df).fit()\n",
    "print(stats.shapiro(model2.resid))"
   ]
  },
  {
   "cell_type": "code",
   "execution_count": 15,
   "id": "44bdf166",
   "metadata": {},
   "outputs": [
    {
     "data": {
      "image/png": "[encoded data removed]",
      "text/plain": [
       "<Figure size 720x720 with 1 Axes>"
      ]
     },
     "metadata": {
      "needs_background": "light"
     },
     "output_type": "display_data"
    }
   ],
   "source": [
    "# another test for normality\n",
    "\n",
    "fig = plt.figure(figsize= (10, 10))\n",
    "ax = fig.add_subplot(111)\n",
    "\n",
    "normality_plot, stat = stats.probplot(model2.resid, plot=plt, rvalue= True)\n",
    "ax.set_title(\"Probability plot of model residual's\", fontsize= 20)\n",
    "ax.set\n",
    "\n",
    "plt.show()"
   ]
  },
  {
   "cell_type": "code",
   "execution_count": 16,
   "id": "21c50bd3",
   "metadata": {},
   "outputs": [
    {
     "data": {
      "text/html": [
       "<div>\n",
       "<style scoped>\n",
       "    .dataframe tbody tr th:only-of-type {\n",
       "        vertical-align: middle;\n",
       "    }\n",
       "\n",
       "    .dataframe tbody tr th {\n",
       "        vertical-align: top;\n",
       "    }\n",
       "\n",
       "    .dataframe thead th {\n",
       "        text-align: right;\n",
       "    }\n",
       "</style>\n",
       "<table border=\"1\" class=\"dataframe\">\n",
       "  <thead>\n",
       "    <tr style=\"text-align: right;\">\n",
       "      <th></th>\n",
       "      <th>sum_sq</th>\n",
       "      <th>df</th>\n",
       "      <th>F</th>\n",
       "      <th>PR(&gt;F)</th>\n",
       "    </tr>\n",
       "  </thead>\n",
       "  <tbody>\n",
       "    <tr>\n",
       "      <th>Manipulation</th>\n",
       "      <td>343.706859</td>\n",
       "      <td>5.0</td>\n",
       "      <td>0.232395</td>\n",
       "      <td>0.946669</td>\n",
       "    </tr>\n",
       "    <tr>\n",
       "      <th>Residual</th>\n",
       "      <td>15972.969728</td>\n",
       "      <td>54.0</td>\n",
       "      <td>NaN</td>\n",
       "      <td>NaN</td>\n",
       "    </tr>\n",
       "  </tbody>\n",
       "</table>\n",
       "</div>"
      ],
      "text/plain": [
       "                    sum_sq    df         F    PR(>F)\n",
       "Manipulation    343.706859   5.0  0.232395  0.946669\n",
       "Residual      15972.969728  54.0       NaN       NaN"
      ]
     },
     "execution_count": 16,
     "metadata": {},
     "output_type": "execute_result"
    }
   ],
   "source": [
    "anova_table = sm.stats.anova_lm(model2, typ=2)\n",
    "anova_table"
   ]
  },
  {
   "cell_type": "markdown",
   "id": "5406a894",
   "metadata": {},
   "source": [
    "## Permutation Tests\n",
    "\n",
    "Let's see how this goes."
   ]
  },
  {
   "cell_type": "code",
   "execution_count": 17,
   "id": "54496fc8",
   "metadata": {},
   "outputs": [],
   "source": [
    "def statistic(x, y, axis):\n",
    "    return (np.mean(x, axis=axis) - np.mean(y, axis=axis))[0]"
   ]
  },
  {
   "cell_type": "code",
   "execution_count": 18,
   "id": "a27ce4b6",
   "metadata": {},
   "outputs": [
    {
     "name": "stdout",
     "output_type": "stream",
     "text": [
      "19.965627518130532\n",
      "30.002130418377405\n",
      "-49.96775793650794\n"
     ]
    }
   ],
   "source": [
    "# comparing between two tasks\n",
    "\n",
    "x = np.asarray(performance_df[performance_df[\"Task\"] == \"Stroop\"][[\"Accuracy\"]])\n",
    "y = np.asarray(performance_df[performance_df[\"Task\"] == \"RDK\"][[\"Accuracy\"]])\n",
    "z = np.asarray(performance_df[performance_df[\"Task\"] == \"Bandit\"][[\"Accuracy\"]])\n",
    "\n",
    "print(statistic(x, y, 0))\n",
    "print(statistic(y, z, 0))\n",
    "print(statistic(z, x, 0))\n"
   ]
  },
  {
   "cell_type": "code",
   "execution_count": 19,
   "id": "978bc83e",
   "metadata": {},
   "outputs": [
    {
     "name": "stdout",
     "output_type": "stream",
     "text": [
      "19.965627518130532\n",
      "1.999998000002e-06\n"
     ]
    }
   ],
   "source": [
    "res = stats.permutation_test((x, y), statistic, vectorized=True, n_resamples=1e6, alternative='less')\n",
    "print(res.statistic)\n",
    "print(res.pvalue)"
   ]
  },
  {
   "cell_type": "code",
   "execution_count": 20,
   "id": "533304ed",
   "metadata": {},
   "outputs": [
    {
     "name": "stdout",
     "output_type": "stream",
     "text": [
      "30.002130418377405\n",
      "1.999998000002e-06\n"
     ]
    }
   ],
   "source": [
    "res = stats.permutation_test((y, z), statistic, vectorized=True, n_resamples=1e6, alternative='less')\n",
    "print(res.statistic)\n",
    "print(res.pvalue)"
   ]
  },
  {
   "cell_type": "code",
   "execution_count": 21,
   "id": "0a96e8b7",
   "metadata": {},
   "outputs": [
    {
     "name": "stdout",
     "output_type": "stream",
     "text": [
      "49.96775793650794\n",
      "1.999998000002e-06\n"
     ]
    }
   ],
   "source": [
    "res = stats.permutation_test((x, z), statistic, vectorized=True, n_resamples=1e6, alternative='less')\n",
    "print(res.statistic)\n",
    "print(res.pvalue)"
   ]
  },
  {
   "cell_type": "markdown",
   "id": "d6b22db1",
   "metadata": {},
   "source": [
    "All these permutation tests reject the null hypotheses. Therefore, we can say that the main effect of tasks is pairwise significant."
   ]
  },
  {
   "cell_type": "markdown",
   "id": "64856bff",
   "metadata": {},
   "source": [
    "#### Permutation tests for manipulations"
   ]
  },
  {
   "cell_type": "code",
   "execution_count": 22,
   "id": "f6f37997",
   "metadata": {},
   "outputs": [],
   "source": [
    "manip_1 = performance_df[performance_df[\"Manipulation\"].str.contains(\"vanilla\")]\n",
    "manip_2 = performance_df[performance_df[\"Manipulation\"].str.contains(\"progress\")]\n",
    "manip_3 = performance_df[performance_df[\"Manipulation\"].str.contains(\"eyes\")]\n",
    "manip_4 = performance_df[performance_df[\"Manipulation\"].str.contains(\"posneg\")]\n",
    "manip_5 = performance_df[performance_df[\"Manipulation\"].str.contains(\"final\")]\n",
    "manip_6 = performance_df[performance_df[\"Manipulation\"].str.contains(\"bonus\")]"
   ]
  },
  {
   "cell_type": "markdown",
   "id": "e26c3beb",
   "metadata": {},
   "source": [
    "##### Stroop"
   ]
  },
  {
   "cell_type": "code",
   "execution_count": 23,
   "id": "09aa17f5",
   "metadata": {},
   "outputs": [
    {
     "name": "stdout",
     "output_type": "stream",
     "text": [
      "49\n"
     ]
    }
   ],
   "source": [
    "str_manip_1 = manip_1[manip_1[\"Task\"] == \"Stroop\"][[\"Accuracy\"]]\n",
    "str_manip_2 = manip_2[manip_2[\"Task\"] == \"Stroop\"][[\"Accuracy\"]]\n",
    "str_manip_3 = manip_3[manip_3[\"Task\"] == \"Stroop\"][[\"Accuracy\"]]\n",
    "str_manip_4 = manip_4[manip_4[\"Task\"] == \"Stroop\"][[\"Accuracy\"]]\n",
    "str_manip_5 = manip_5[manip_5[\"Task\"] == \"Stroop\"][[\"Accuracy\"]]\n",
    "str_manip_6 = manip_6[manip_6[\"Task\"] == \"Stroop\"][[\"Accuracy\"]]\n",
    "\n",
    "print(len(str_manip_4))"
   ]
  },
  {
   "cell_type": "code",
   "execution_count": 24,
   "id": "4a379487",
   "metadata": {},
   "outputs": [
    {
     "name": "stdout",
     "output_type": "stream",
     "text": [
      "4.453125000000014\n",
      "0.015873015873015872\n"
     ]
    }
   ],
   "source": [
    "# vanilla vs progress-bar\n",
    "res = stats.permutation_test((str_manip_1, str_manip_2), statistic, vectorized=True, n_resamples=np.inf)\n",
    "print(res.statistic)\n",
    "print(res.pvalue)"
   ]
  },
  {
   "cell_type": "code",
   "execution_count": 25,
   "id": "2412c18c",
   "metadata": {},
   "outputs": [
    {
     "name": "stdout",
     "output_type": "stream",
     "text": [
      "-2.604166666666657\n",
      "0.02857142857142857\n"
     ]
    }
   ],
   "source": [
    "# vanilla vs eyes\n",
    "res = stats.permutation_test((str_manip_1, str_manip_3), statistic, vectorized=True, n_resamples=np.inf)\n",
    "print(res.statistic)\n",
    "print(res.pvalue)"
   ]
  },
  {
   "cell_type": "code",
   "execution_count": 26,
   "id": "989f65d7",
   "metadata": {},
   "outputs": [
    {
     "name": "stdout",
     "output_type": "stream",
     "text": [
      "-2.5111607142857224\n",
      "6.830017928797063e-06\n"
     ]
    }
   ],
   "source": [
    "# vanilla vs posneg\n",
    "res = stats.permutation_test((str_manip_1, str_manip_4), statistic, vectorized=True, n_resamples=np.inf)\n",
    "print(res.statistic)\n",
    "print(res.pvalue)"
   ]
  },
  {
   "cell_type": "code",
   "execution_count": 27,
   "id": "45832023",
   "metadata": {},
   "outputs": [
    {
     "name": "stdout",
     "output_type": "stream",
     "text": [
      "-1.6927083333333144\n",
      "0.015873015873015872\n"
     ]
    }
   ],
   "source": [
    "# vanilla vs final\n",
    "res = stats.permutation_test((str_manip_1, str_manip_5), statistic, vectorized=True, n_resamples=np.inf)\n",
    "print(res.statistic)\n",
    "print(res.pvalue)"
   ]
  },
  {
   "cell_type": "code",
   "execution_count": 28,
   "id": "170bb7fe",
   "metadata": {},
   "outputs": [
    {
     "name": "stdout",
     "output_type": "stream",
     "text": [
      "15.807291666666657\n",
      "0.015873015873015872\n"
     ]
    }
   ],
   "source": [
    "# vanilla vs bonus\n",
    "res = stats.permutation_test((str_manip_1, str_manip_6), statistic, vectorized=True, n_resamples=np.inf)\n",
    "print(res.statistic)\n",
    "print(res.pvalue)"
   ]
  },
  {
   "cell_type": "code",
   "execution_count": 29,
   "id": "8de9dd1d",
   "metadata": {},
   "outputs": [
    {
     "name": "stdout",
     "output_type": "stream",
     "text": [
      "-7.057291666666671\n",
      "0.015873015873015872\n"
     ]
    }
   ],
   "source": [
    "# progress-bar vs eyes\n",
    "res = stats.permutation_test((str_manip_2, str_manip_3), statistic, vectorized=True, n_resamples=np.inf)\n",
    "print(res.statistic)\n",
    "print(res.pvalue)"
   ]
  },
  {
   "cell_type": "code",
   "execution_count": 30,
   "id": "9c533d95",
   "metadata": {},
   "outputs": [
    {
     "ename": "KeyboardInterrupt",
     "evalue": "",
     "output_type": "error",
     "traceback": [
      "\u001b[1;31m---------------------------------------------------------------------------\u001b[0m",
      "\u001b[1;31mKeyboardInterrupt\u001b[0m                         Traceback (most recent call last)",
      "\u001b[1;32m~\\AppData\\Local\\Temp/ipykernel_24036/340443976.py\u001b[0m in \u001b[0;36m<module>\u001b[1;34m\u001b[0m\n\u001b[0;32m      1\u001b[0m \u001b[1;31m# progress-bar vs posneg\u001b[0m\u001b[1;33m\u001b[0m\u001b[1;33m\u001b[0m\u001b[0m\n\u001b[1;32m----> 2\u001b[1;33m \u001b[0mres\u001b[0m \u001b[1;33m=\u001b[0m \u001b[0mstats\u001b[0m\u001b[1;33m.\u001b[0m\u001b[0mpermutation_test\u001b[0m\u001b[1;33m(\u001b[0m\u001b[1;33m(\u001b[0m\u001b[0mstr_manip_2\u001b[0m\u001b[1;33m,\u001b[0m \u001b[0mstr_manip_4\u001b[0m\u001b[1;33m)\u001b[0m\u001b[1;33m,\u001b[0m \u001b[0mstatistic\u001b[0m\u001b[1;33m,\u001b[0m \u001b[0mvectorized\u001b[0m\u001b[1;33m=\u001b[0m\u001b[1;32mTrue\u001b[0m\u001b[1;33m,\u001b[0m \u001b[0mn_resamples\u001b[0m\u001b[1;33m=\u001b[0m\u001b[0mnp\u001b[0m\u001b[1;33m.\u001b[0m\u001b[0minf\u001b[0m\u001b[1;33m)\u001b[0m\u001b[1;33m\u001b[0m\u001b[1;33m\u001b[0m\u001b[0m\n\u001b[0m\u001b[0;32m      3\u001b[0m \u001b[0mprint\u001b[0m\u001b[1;33m(\u001b[0m\u001b[0mres\u001b[0m\u001b[1;33m.\u001b[0m\u001b[0mstatistic\u001b[0m\u001b[1;33m)\u001b[0m\u001b[1;33m\u001b[0m\u001b[1;33m\u001b[0m\u001b[0m\n\u001b[0;32m      4\u001b[0m \u001b[0mprint\u001b[0m\u001b[1;33m(\u001b[0m\u001b[0mres\u001b[0m\u001b[1;33m.\u001b[0m\u001b[0mpvalue\u001b[0m\u001b[1;33m)\u001b[0m\u001b[1;33m\u001b[0m\u001b[1;33m\u001b[0m\u001b[0m\n",
      "\u001b[1;32m~\\.conda\\envs\\data_literacy\\lib\\site-packages\\scipy\\stats\\_resampling.py\u001b[0m in \u001b[0;36mpermutation_test\u001b[1;34m(data, statistic, permutation_type, vectorized, n_resamples, batch, alternative, axis, random_state)\u001b[0m\n\u001b[0;32m   1409\u001b[0m     \u001b[0mcalculate_null\u001b[0m \u001b[1;33m=\u001b[0m \u001b[0mnull_calculators\u001b[0m\u001b[1;33m[\u001b[0m\u001b[0mpermutation_type\u001b[0m\u001b[1;33m]\u001b[0m\u001b[1;33m\u001b[0m\u001b[1;33m\u001b[0m\u001b[0m\n\u001b[0;32m   1410\u001b[0m     null_distribution, n_resamples, exact_test = (\n\u001b[1;32m-> 1411\u001b[1;33m         calculate_null(*null_calculator_args))\n\u001b[0m\u001b[0;32m   1412\u001b[0m \u001b[1;33m\u001b[0m\u001b[0m\n\u001b[0;32m   1413\u001b[0m     \u001b[1;31m# See References [2] and [3]\u001b[0m\u001b[1;33m\u001b[0m\u001b[1;33m\u001b[0m\u001b[0m\n",
      "\u001b[1;32m~\\.conda\\envs\\data_literacy\\lib\\site-packages\\scipy\\stats\\_resampling.py\u001b[0m in \u001b[0;36m_calculate_null_both\u001b[1;34m(data, statistic, n_permutations, batch, random_state)\u001b[0m\n\u001b[0;32m    808\u001b[0m     \u001b[1;31m# statistic values to the null distribution.\u001b[0m\u001b[1;33m\u001b[0m\u001b[1;33m\u001b[0m\u001b[0m\n\u001b[0;32m    809\u001b[0m     \u001b[0mdata\u001b[0m \u001b[1;33m=\u001b[0m \u001b[0mnp\u001b[0m\u001b[1;33m.\u001b[0m\u001b[0mconcatenate\u001b[0m\u001b[1;33m(\u001b[0m\u001b[0mdata\u001b[0m\u001b[1;33m,\u001b[0m \u001b[0maxis\u001b[0m\u001b[1;33m=\u001b[0m\u001b[1;33m-\u001b[0m\u001b[1;36m1\u001b[0m\u001b[1;33m)\u001b[0m\u001b[1;33m\u001b[0m\u001b[1;33m\u001b[0m\u001b[0m\n\u001b[1;32m--> 810\u001b[1;33m     \u001b[1;32mfor\u001b[0m \u001b[0mindices\u001b[0m \u001b[1;32min\u001b[0m \u001b[0m_batch_generator\u001b[0m\u001b[1;33m(\u001b[0m\u001b[0mperm_generator\u001b[0m\u001b[1;33m,\u001b[0m \u001b[0mbatch\u001b[0m\u001b[1;33m=\u001b[0m\u001b[0mbatch\u001b[0m\u001b[1;33m)\u001b[0m\u001b[1;33m:\u001b[0m\u001b[1;33m\u001b[0m\u001b[1;33m\u001b[0m\u001b[0m\n\u001b[0m\u001b[0;32m    811\u001b[0m         \u001b[0mindices\u001b[0m \u001b[1;33m=\u001b[0m \u001b[0mnp\u001b[0m\u001b[1;33m.\u001b[0m\u001b[0marray\u001b[0m\u001b[1;33m(\u001b[0m\u001b[0mindices\u001b[0m\u001b[1;33m)\u001b[0m\u001b[1;33m\u001b[0m\u001b[1;33m\u001b[0m\u001b[0m\n\u001b[0;32m    812\u001b[0m \u001b[1;33m\u001b[0m\u001b[0m\n",
      "\u001b[1;32m~\\.conda\\envs\\data_literacy\\lib\\site-packages\\scipy\\stats\\_resampling.py\u001b[0m in \u001b[0;36m_batch_generator\u001b[1;34m(iterable, batch)\u001b[0m\n\u001b[0;32m    763\u001b[0m     \u001b[1;32mif\u001b[0m \u001b[0mbatch\u001b[0m \u001b[1;33m<=\u001b[0m \u001b[1;36m0\u001b[0m\u001b[1;33m:\u001b[0m\u001b[1;33m\u001b[0m\u001b[1;33m\u001b[0m\u001b[0m\n\u001b[0;32m    764\u001b[0m         \u001b[1;32mraise\u001b[0m \u001b[0mValueError\u001b[0m\u001b[1;33m(\u001b[0m\u001b[1;34m\"`batch` must be positive.\"\u001b[0m\u001b[1;33m)\u001b[0m\u001b[1;33m\u001b[0m\u001b[1;33m\u001b[0m\u001b[0m\n\u001b[1;32m--> 765\u001b[1;33m     \u001b[0mz\u001b[0m \u001b[1;33m=\u001b[0m \u001b[1;33m[\u001b[0m\u001b[0mitem\u001b[0m \u001b[1;32mfor\u001b[0m \u001b[0mi\u001b[0m\u001b[1;33m,\u001b[0m \u001b[0mitem\u001b[0m \u001b[1;32min\u001b[0m \u001b[0mzip\u001b[0m\u001b[1;33m(\u001b[0m\u001b[0mrange\u001b[0m\u001b[1;33m(\u001b[0m\u001b[0mbatch\u001b[0m\u001b[1;33m)\u001b[0m\u001b[1;33m,\u001b[0m \u001b[0miterator\u001b[0m\u001b[1;33m)\u001b[0m\u001b[1;33m]\u001b[0m\u001b[1;33m\u001b[0m\u001b[1;33m\u001b[0m\u001b[0m\n\u001b[0m\u001b[0;32m    766\u001b[0m     \u001b[1;32mwhile\u001b[0m \u001b[0mz\u001b[0m\u001b[1;33m:\u001b[0m  \u001b[1;31m# we don't want StopIteration without yielding an empty list\u001b[0m\u001b[1;33m\u001b[0m\u001b[1;33m\u001b[0m\u001b[0m\n\u001b[0;32m    767\u001b[0m         \u001b[1;32myield\u001b[0m \u001b[0mz\u001b[0m\u001b[1;33m\u001b[0m\u001b[1;33m\u001b[0m\u001b[0m\n",
      "\u001b[1;32m~\\.conda\\envs\\data_literacy\\lib\\site-packages\\scipy\\stats\\_resampling.py\u001b[0m in \u001b[0;36m<listcomp>\u001b[1;34m(.0)\u001b[0m\n\u001b[0;32m    763\u001b[0m     \u001b[1;32mif\u001b[0m \u001b[0mbatch\u001b[0m \u001b[1;33m<=\u001b[0m \u001b[1;36m0\u001b[0m\u001b[1;33m:\u001b[0m\u001b[1;33m\u001b[0m\u001b[1;33m\u001b[0m\u001b[0m\n\u001b[0;32m    764\u001b[0m         \u001b[1;32mraise\u001b[0m \u001b[0mValueError\u001b[0m\u001b[1;33m(\u001b[0m\u001b[1;34m\"`batch` must be positive.\"\u001b[0m\u001b[1;33m)\u001b[0m\u001b[1;33m\u001b[0m\u001b[1;33m\u001b[0m\u001b[0m\n\u001b[1;32m--> 765\u001b[1;33m     \u001b[0mz\u001b[0m \u001b[1;33m=\u001b[0m \u001b[1;33m[\u001b[0m\u001b[0mitem\u001b[0m \u001b[1;32mfor\u001b[0m \u001b[0mi\u001b[0m\u001b[1;33m,\u001b[0m \u001b[0mitem\u001b[0m \u001b[1;32min\u001b[0m \u001b[0mzip\u001b[0m\u001b[1;33m(\u001b[0m\u001b[0mrange\u001b[0m\u001b[1;33m(\u001b[0m\u001b[0mbatch\u001b[0m\u001b[1;33m)\u001b[0m\u001b[1;33m,\u001b[0m \u001b[0miterator\u001b[0m\u001b[1;33m)\u001b[0m\u001b[1;33m]\u001b[0m\u001b[1;33m\u001b[0m\u001b[1;33m\u001b[0m\u001b[0m\n\u001b[0m\u001b[0;32m    766\u001b[0m     \u001b[1;32mwhile\u001b[0m \u001b[0mz\u001b[0m\u001b[1;33m:\u001b[0m  \u001b[1;31m# we don't want StopIteration without yielding an empty list\u001b[0m\u001b[1;33m\u001b[0m\u001b[1;33m\u001b[0m\u001b[0m\n\u001b[0;32m    767\u001b[0m         \u001b[1;32myield\u001b[0m \u001b[0mz\u001b[0m\u001b[1;33m\u001b[0m\u001b[1;33m\u001b[0m\u001b[0m\n",
      "\u001b[1;32m~\\.conda\\envs\\data_literacy\\lib\\site-packages\\scipy\\stats\\_resampling.py\u001b[0m in \u001b[0;36m_all_partitions_concatenated\u001b[1;34m(ns)\u001b[0m\n\u001b[0;32m    753\u001b[0m     \u001b[0mz\u001b[0m \u001b[1;33m=\u001b[0m \u001b[0mset\u001b[0m\u001b[1;33m(\u001b[0m\u001b[0mrange\u001b[0m\u001b[1;33m(\u001b[0m\u001b[0mnp\u001b[0m\u001b[1;33m.\u001b[0m\u001b[0msum\u001b[0m\u001b[1;33m(\u001b[0m\u001b[0mns\u001b[0m\u001b[1;33m)\u001b[0m\u001b[1;33m)\u001b[0m\u001b[1;33m)\u001b[0m\u001b[1;33m\u001b[0m\u001b[1;33m\u001b[0m\u001b[0m\n\u001b[0;32m    754\u001b[0m     \u001b[1;32mfor\u001b[0m \u001b[0mpartitioning\u001b[0m \u001b[1;32min\u001b[0m \u001b[0mall_partitions_n\u001b[0m\u001b[1;33m(\u001b[0m\u001b[0mz\u001b[0m\u001b[1;33m,\u001b[0m \u001b[0mns\u001b[0m\u001b[1;33m[\u001b[0m\u001b[1;33m:\u001b[0m\u001b[1;33m]\u001b[0m\u001b[1;33m)\u001b[0m\u001b[1;33m:\u001b[0m\u001b[1;33m\u001b[0m\u001b[1;33m\u001b[0m\u001b[0m\n\u001b[1;32m--> 755\u001b[1;33m         x = np.concatenate([list(partition)\n\u001b[0m\u001b[0;32m    756\u001b[0m                             for partition in partitioning]).astype(int)\n\u001b[0;32m    757\u001b[0m         \u001b[1;32myield\u001b[0m \u001b[0mx\u001b[0m\u001b[1;33m\u001b[0m\u001b[1;33m\u001b[0m\u001b[0m\n",
      "\u001b[1;31mKeyboardInterrupt\u001b[0m: "
     ]
    }
   ],
   "source": [
    "# progress-bar vs posneg\n",
    "res = stats.permutation_test((str_manip_2, str_manip_4), statistic, vectorized=True, n_resamples=np.inf)\n",
    "print(res.statistic)\n",
    "print(res.pvalue)"
   ]
  },
  {
   "cell_type": "code",
   "execution_count": null,
   "id": "67bf984b",
   "metadata": {},
   "outputs": [],
   "source": [
    "# progress-bar vs final\n",
    "res = stats.permutation_test((str_manip_2, str_manip_5), statistic, vectorized=True, n_resamples=np.inf)\n",
    "print(res.statistic)\n",
    "print(res.pvalue)"
   ]
  },
  {
   "cell_type": "code",
   "execution_count": null,
   "id": "3d0fb417",
   "metadata": {},
   "outputs": [],
   "source": [
    "# progress-bar vs bonus\n",
    "res = stats.permutation_test((str_manip_2, str_manip_6), statistic, vectorized=True, n_resamples=np.inf)\n",
    "print(res.statistic)\n",
    "print(res.pvalue)"
   ]
  },
  {
   "cell_type": "code",
   "execution_count": null,
   "id": "c1f4cd76",
   "metadata": {},
   "outputs": [],
   "source": [
    "# eyes vs posneg\n",
    "res = stats.permutation_test((str_manip_3, str_manip_4), statistic, vectorized=True, n_resamples=np.inf, alternative='less')\n",
    "print(res.statistic)\n",
    "print(res.pvalue)"
   ]
  },
  {
   "cell_type": "code",
   "execution_count": null,
   "id": "10df229d",
   "metadata": {},
   "outputs": [],
   "source": [
    "# eyes vs final\n",
    "res = stats.permutation_test((str_manip_3, str_manip_5), statistic, vectorized=True, n_resamples=np.inf)\n",
    "print(res.statistic)\n",
    "print(res.pvalue)"
   ]
  },
  {
   "cell_type": "code",
   "execution_count": null,
   "id": "03cd506c",
   "metadata": {},
   "outputs": [],
   "source": [
    "# eyes vs bonus\n",
    "res = stats.permutation_test((str_manip_3, str_manip_6), statistic, vectorized=True, n_resamples=np.inf)\n",
    "print(res.statistic)\n",
    "print(res.pvalue)"
   ]
  },
  {
   "cell_type": "code",
   "execution_count": null,
   "id": "63372aba",
   "metadata": {},
   "outputs": [],
   "source": [
    "# posneg vs final\n",
    "res = stats.permutation_test((str_manip_4, str_manip_5), statistic, vectorized=True, n_resamples=np.inf)\n",
    "print(res.statistic)\n",
    "print(res.pvalue)"
   ]
  },
  {
   "cell_type": "code",
   "execution_count": null,
   "id": "5b73265e",
   "metadata": {},
   "outputs": [],
   "source": [
    "# posneg vs bonus\n",
    "res = stats.permutation_test((str_manip_4, str_manip_6), statistic, vectorized=True, n_resamples=np.inf)\n",
    "print(res.statistic)\n",
    "print(res.pvalue)"
   ]
  },
  {
   "cell_type": "code",
   "execution_count": null,
   "id": "5be4c1f0",
   "metadata": {},
   "outputs": [],
   "source": [
    "# final vs bonus\n",
    "res = stats.permutation_test((str_manip_5, str_manip_6), statistic, vectorized=True, n_resamples=np.inf)\n",
    "print(res.statistic)\n",
    "print(res.pvalue)"
   ]
  },
  {
   "cell_type": "markdown",
   "id": "456ca88e",
   "metadata": {},
   "source": [
    "### WITHIN TASK ANOVAs"
   ]
  },
  {
   "cell_type": "markdown",
   "id": "b35e4a14",
   "metadata": {},
   "source": [
    "#### I. Stroop"
   ]
  },
  {
   "cell_type": "code",
   "execution_count": null,
   "id": "407826e9",
   "metadata": {},
   "outputs": [],
   "source": [
    "stroop_performance_df = performance_df[performance_df[\"Task\"] == \"Stroop\"]\n",
    "stroop_performance_df = sample_equal_rows(stroop_performance_df, \"Manipulation\", min(stroop_performance_df[\"Manipulation\"].value_counts()))\n",
    "\n",
    "fig = plt.figure(figsize=(15,5))\n",
    "ax = sns.boxplot(x='Manipulation', y='Accuracy', data=stroop_performance_df, color='#99c2a2')\n",
    "ax = sns.swarmplot(x=\"Manipulation\", y=\"Accuracy\", data=stroop_performance_df, color='#7d0013')\n",
    "plt.show()"
   ]
  },
  {
   "cell_type": "code",
   "execution_count": null,
   "id": "4923bc2c",
   "metadata": {},
   "outputs": [],
   "source": [
    "model3 = ols('Accuracy ~ Manipulation', data=stroop_performance_df).fit()\n",
    "print(stats.shapiro(model3.resid))"
   ]
  },
  {
   "cell_type": "code",
   "execution_count": null,
   "id": "7fbdaac5",
   "metadata": {},
   "outputs": [],
   "source": [
    "# another test for normality\n",
    "\n",
    "fig = plt.figure(figsize= (10, 10))\n",
    "ax = fig.add_subplot(111)\n",
    "\n",
    "normality_plot, stat = stats.probplot(model3.resid, plot=plt, rvalue= True)\n",
    "ax.set_title(\"Probability plot of model residual's\", fontsize= 20)\n",
    "ax.set\n",
    "\n",
    "plt.show()"
   ]
  },
  {
   "cell_type": "code",
   "execution_count": null,
   "id": "1ac52261",
   "metadata": {},
   "outputs": [],
   "source": [
    "anova_table = sm.stats.anova_lm(model3, typ=2)\n",
    "anova_table"
   ]
  },
  {
   "cell_type": "code",
   "execution_count": null,
   "id": "5230a670",
   "metadata": {},
   "outputs": [],
   "source": []
  },
  {
   "cell_type": "markdown",
   "id": "a324a27f",
   "metadata": {},
   "source": [
    "#### II. RDK"
   ]
  },
  {
   "cell_type": "code",
   "execution_count": null,
   "id": "5078b963",
   "metadata": {},
   "outputs": [],
   "source": [
    "rdk_performance_df = performance_df[performance_df[\"Task\"] == \"RDK\"]\n",
    "rdk_performance_df = sample_equal_rows(rdk_performance_df, \"Manipulation\", min(rdk_performance_df[\"Manipulation\"].value_counts()))\n",
    "\n",
    "fig = plt.figure(figsize=(15,5))\n",
    "ax = sns.boxplot(x='Manipulation', y='Accuracy', data=rdk_performance_df, color='#99c2a2')\n",
    "ax = sns.swarmplot(x=\"Manipulation\", y=\"Accuracy\", data=rdk_performance_df, color='#7d0013')\n",
    "plt.show()"
   ]
  },
  {
   "cell_type": "code",
   "execution_count": null,
   "id": "046edb6b",
   "metadata": {
    "scrolled": true
   },
   "outputs": [],
   "source": [
    "model4 = ols('Accuracy ~ Manipulation', data=rdk_performance_df).fit()\n",
    "print(stats.shapiro(model4.resid))"
   ]
  },
  {
   "cell_type": "code",
   "execution_count": null,
   "id": "d14dca72",
   "metadata": {
    "scrolled": false
   },
   "outputs": [],
   "source": [
    "# another test for normality\n",
    "\n",
    "fig = plt.figure(figsize= (10, 10))\n",
    "ax = fig.add_subplot(111)\n",
    "\n",
    "normality_plot, stat = stats.probplot(model4.resid, plot=plt, rvalue= True)\n",
    "ax.set_title(\"Probability plot of model residual's\", fontsize= 20)\n",
    "ax.set\n",
    "\n",
    "plt.show()"
   ]
  },
  {
   "cell_type": "code",
   "execution_count": null,
   "id": "193808dd",
   "metadata": {},
   "outputs": [],
   "source": [
    "anova_table = sm.stats.anova_lm(model4, typ=2)\n",
    "anova_table"
   ]
  },
  {
   "cell_type": "code",
   "execution_count": null,
   "id": "478d0509",
   "metadata": {},
   "outputs": [],
   "source": []
  },
  {
   "cell_type": "markdown",
   "id": "1106c0f3",
   "metadata": {},
   "source": [
    "#### II. RDK"
   ]
  },
  {
   "cell_type": "code",
   "execution_count": null,
   "id": "c04d709a",
   "metadata": {
    "scrolled": false
   },
   "outputs": [],
   "source": [
    "bandit_performance_df = performance_df[performance_df[\"Task\"] == \"Bandit\"]\n",
    "bandit_performance_df = sample_equal_rows(bandit_performance_df, \"Manipulation\", min(bandit_performance_df[\"Manipulation\"].value_counts()))\n",
    "\n",
    "fig = plt.figure(figsize=(15,5))\n",
    "ax = sns.boxplot(x='Manipulation', y='Accuracy', data=bandit_performance_df, color='#99c2a2')\n",
    "ax = sns.swarmplot(x=\"Manipulation\", y=\"Accuracy\", data=bandit_performance_df, color='#7d0013')\n",
    "plt.show()"
   ]
  },
  {
   "cell_type": "code",
   "execution_count": null,
   "id": "a92f0e64",
   "metadata": {
    "scrolled": true
   },
   "outputs": [],
   "source": [
    "model5 = ols('Accuracy ~ Manipulation', data=rdk_performance_df).fit()\n",
    "print(stats.shapiro(model5.resid))"
   ]
  },
  {
   "cell_type": "code",
   "execution_count": null,
   "id": "66a434bb",
   "metadata": {
    "scrolled": false
   },
   "outputs": [],
   "source": [
    "# another test for normality\n",
    "\n",
    "fig = plt.figure(figsize= (10, 10))\n",
    "ax = fig.add_subplot(111)\n",
    "\n",
    "normality_plot, stat = stats.probplot(model5.resid, plot=plt, rvalue= True)\n",
    "ax.set_title(\"Probability plot of model residual's\", fontsize= 20)\n",
    "ax.set\n",
    "\n",
    "plt.show()"
   ]
  },
  {
   "cell_type": "code",
   "execution_count": null,
   "id": "28787974",
   "metadata": {},
   "outputs": [],
   "source": [
    "anova_table = sm.stats.anova_lm(model5, typ=2)\n",
    "anova_table"
   ]
  },
  {
   "cell_type": "code",
   "execution_count": null,
   "id": "e83e2b08",
   "metadata": {},
   "outputs": [],
   "source": []
  }
 ],
 "metadata": {
  "kernelspec": {
   "display_name": "Python 3",
   "language": "python",
   "name": "python3"
  },
  "language_info": {
   "codemirror_mode": {
    "name": "ipython",
    "version": 3
   },
   "file_extension": ".py",
   "mimetype": "text/x-python",
   "name": "python",
   "nbconvert_exporter": "python",
   "pygments_lexer": "ipython3",
   "version": "3.9.7"
  }
 },
 "nbformat": 4,
 "nbformat_minor": 5
}
