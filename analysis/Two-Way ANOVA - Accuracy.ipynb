{
 "cells": [
  {
   "cell_type": "markdown",
   "id": "5161bb1e",
   "metadata": {},
   "source": [
    "## ANOVA - Two-Way Test"
   ]
  },
  {
   "cell_type": "code",
   "execution_count": 2,
   "id": "80b65700",
   "metadata": {},
   "outputs": [],
   "source": [
    "import matplotlib.pyplot as plt\n",
    "import numpy as np\n",
    "import pandas as pd\n",
    "import seaborn as sns\n",
    "import warnings\n",
    "warnings.simplefilter(action='ignore', category=FutureWarning)\n",
    "\n",
    "import scipy.stats as stats\n",
    "import statsmodels.api as sm\n",
    "from statsmodels.formula.api import ols"
   ]
  },
  {
   "cell_type": "markdown",
   "id": "79058c16",
   "metadata": {},
   "source": [
    "#### Data Preparation"
   ]
  },
  {
   "cell_type": "code",
   "execution_count": 3,
   "id": "f695bde1",
   "metadata": {},
   "outputs": [],
   "source": [
    "# task dictionary\n",
    "task_dict = {\n",
    "    'stroop_vanilla': 'task-td7i',\n",
    "    'stroop_progressbar': 'task-lupf',\n",
    "    'stroop_eyes': 'task-c9op',\n",
    "#     'stroop_video': 'task-najf',\n",
    "    'stroop_posneg': 'task-on6n',\n",
    "    'stroop_final': 'task-7g42',\n",
    "    'stroop_bonus': 'task-3kpz',\n",
    "    'rdk_vanilla': 'task-2ywa',\n",
    "    'rdk_progressbar': 'task-sks3',\n",
    "    'rdk_eyes': 'task-zyvq',\n",
    "#     'rdk_video': 'task-6e3k',\n",
    "    'rdk_posneg': 'task-ivrk',\n",
    "    'rdk_final': 'task-sq3v',\n",
    "    'rdk_bonus': 'task-hvii',\n",
    "    'bandit_vanilla': 'task-dwkr',\n",
    "    'bandit_progressbar': 'task-25bt',\n",
    "    'bandit_eyes': 'task-x158',\n",
    "#     'bandit_video': 'task-9ndm',\n",
    "    'bandit_posneg': 'task-tzk1',\n",
    "    'bandit_final': 'task-gn7s',\n",
    "    'bandit_bonus': 'task-iaas',\n",
    "}\n",
    "\n",
    "# task-separated arrays\n",
    "# stroop_arr = [\"stroop_vanilla\", \"stroop_progressbar\", \"stroop_eyes\", \"stroop_video\", \"stroop_posneg\", \"stroop_final\", \"stroop_bonus\"]\n",
    "# rdk_arr = [\"rdk_vanilla\", \"rdk_progressbar\", \"rdk_eyes\", \"rdk_video\", \"rdk_posneg\", \"rdk_final\", \"rdk_bonus\"]\n",
    "# bandit_arr = [\"bandit_vanilla\", \"bandit_progressbar\", \"bandit_eyes\", \"bandit_video\", \"bandit_posneg\", \"bandit_final\", \"bandit_bonus\"]\n",
    "stroop_arr = [\"stroop_vanilla\", \"stroop_progressbar\", \"stroop_eyes\", \"stroop_posneg\", \"stroop_final\", \"stroop_bonus\"]\n",
    "rdk_arr = [\"rdk_vanilla\", \"rdk_progressbar\", \"rdk_eyes\", \"rdk_posneg\", \"rdk_final\", \"rdk_bonus\"]\n",
    "bandit_arr = [\"bandit_vanilla\", \"bandit_progressbar\", \"bandit_eyes\", \"bandit_posneg\", \"bandit_final\", \"bandit_bonus\"]"
   ]
  },
  {
   "cell_type": "code",
   "execution_count": 4,
   "id": "1f553ade",
   "metadata": {},
   "outputs": [
    {
     "name": "stderr",
     "output_type": "stream",
     "text": [
      "C:\\Users\\Devank\\AppData\\Local\\Temp/ipykernel_6572/2369746899.py:4: DtypeWarning: Columns (0,58) have mixed types. Specify dtype option on import or set low_memory=False.\n",
      "  stroop_df = pd.read_csv('./data_exp_99963-v4/data_exp_99963-v4_' + task_dict[manip] + '.csv')\n",
      "C:\\Users\\Devank\\AppData\\Local\\Temp/ipykernel_6572/2369746899.py:26: DtypeWarning: Columns (0) have mixed types. Specify dtype option on import or set low_memory=False.\n",
      "  rdk_df = pd.read_csv('./data_exp_99963-v4/data_exp_99963-v4_' + task_dict[manip] + '.csv')\n",
      "C:\\Users\\Devank\\AppData\\Local\\Temp/ipykernel_6572/2369746899.py:49: DtypeWarning: Columns (0,58) have mixed types. Specify dtype option on import or set low_memory=False.\n",
      "  bandit_df = pd.read_csv('./data_exp_99963-v4/data_exp_99963-v4_' + task_dict[manip] + '.csv')\n"
     ]
    }
   ],
   "source": [
    "stroop_list = []\n",
    "\n",
    "for manip in stroop_arr:\n",
    "    stroop_df = pd.read_csv('./data_exp_99963-v4/data_exp_99963-v4_' + task_dict[manip] + '.csv')\n",
    "    stroop_df.drop(stroop_df[stroop_df['Event Index'] == 'END OF FILE'].index, inplace = True)\n",
    "    stroop_list.append(stroop_df)\n",
    "    \n",
    "# for manip in stroop_arr:\n",
    "#     stroop_df = pd.read_csv('./data_exp_96489-v3/data_exp_96489-v3_' + task_dict[manip] + '.csv')\n",
    "#     stroop_df.drop(stroop_df[stroop_df['Event Index'] == 'END OF FILE'].index, inplace = True)\n",
    "#     stroop_list.append(stroop_df)\n",
    "    \n",
    "stroop_df = pd.concat(stroop_list)\n",
    "stroop_df = stroop_df[[\n",
    "    \"Tree Node Key\",\n",
    "    \"Participant Private ID\",\n",
    "    \"Screen Name\",\n",
    "    \"Attempt\",\n",
    "    \"Correct\",\n",
    "    \"Incorrect\"\n",
    "]]\n",
    "\n",
    "rdk_list = []\n",
    "\n",
    "for manip in rdk_arr:\n",
    "    rdk_df = pd.read_csv('./data_exp_99963-v4/data_exp_99963-v4_' + task_dict[manip] + '.csv')\n",
    "    rdk_df.drop(rdk_df[rdk_df['Event Index'] == 'END OF FILE'].index, inplace = True)\n",
    "    rdk_list.append(rdk_df)\n",
    "    \n",
    "# for manip in rdk_arr:\n",
    "#     rdk_df = pd.read_csv('./data_exp_96489-v3/data_exp_96489-v3_' + task_dict[manip] + '.csv')\n",
    "#     rdk_df.drop(rdk_df[rdk_df['Event Index'] == 'END OF FILE'].index, inplace = True)\n",
    "#     rdk_list.append(rdk_df)\n",
    "    \n",
    "rdk_df = pd.concat(rdk_list)\n",
    "rdk_df = rdk_df[[\n",
    "    \"Tree Node Key\",\n",
    "    \"Participant Private ID\",\n",
    "    \"Screen Name\",\n",
    "    \"Attempt\",\n",
    "    \"Correct\",\n",
    "    \"Incorrect\"\n",
    "]]\n",
    "\n",
    "\n",
    "bandit_list = []\n",
    "\n",
    "for manip in bandit_arr:\n",
    "    bandit_df = pd.read_csv('./data_exp_99963-v4/data_exp_99963-v4_' + task_dict[manip] + '.csv')\n",
    "    bandit_df.drop(bandit_df[bandit_df['Event Index'] == 'END OF FILE'].index, inplace = True)\n",
    "    bandit_list.append(bandit_df)\n",
    "    \n",
    "# for manip in bandit_arr:\n",
    "#     bandit_df = pd.read_csv('./data_exp_96489-v3/data_exp_96489-v3_' + task_dict[manip] + '.csv')\n",
    "#     bandit_df.drop(bandit_df[bandit_df['Event Index'] == 'END OF FILE'].index, inplace = True)\n",
    "#     bandit_list.append(bandit_df)\n",
    "    \n",
    "bandit_df = pd.concat(bandit_list)\n",
    "bandit_df = bandit_df[[\n",
    "    \"Tree Node Key\",\n",
    "    \"Participant Private ID\",\n",
    "    \"Screen Name\",\n",
    "    \"Attempt\",\n",
    "    \"Correct\",\n",
    "    \"Incorrect\"\n",
    "]]"
   ]
  },
  {
   "cell_type": "code",
   "execution_count": 5,
   "id": "9701b0e1",
   "metadata": {},
   "outputs": [],
   "source": [
    "def accuracy_df_builder(df, arr, task):\n",
    "    \n",
    "    performance_df = pd.DataFrame(columns=['Participant', 'Task', 'Manipulation', 'Accuracy'])\n",
    "    for manip in arr:\n",
    "\n",
    "        focus_df = df[df['Tree Node Key'] == task_dict[manip]]\n",
    "        participants = focus_df['Participant Private ID'].unique().tolist()\n",
    "        if len(participants) < 1:\n",
    "            accuracies.append(overall_accuracy)\n",
    "            continue\n",
    "        \n",
    "        for participant in participants:\n",
    "            participant_df = focus_df[focus_df['Participant Private ID'] == participant]\n",
    "            participant_df = participant_df[participant_df['Screen Name'] == 'trial'][['Attempt', 'Correct', 'Incorrect']]\n",
    "\n",
    "            if participant_df.empty:\n",
    "                participants.remove(participant)\n",
    "                continue\n",
    "\n",
    "            # for timeouts\n",
    "            participant_df['Attempt'].fillna(0, inplace = True)\n",
    "            \n",
    "            accuracy = participant_df['Correct'].sum() * 100 / len(participant_df)\n",
    "            performance_df = performance_df.append({\n",
    "                'Participant': participant,\n",
    "                'Task': task,\n",
    "                'Manipulation': manip,\n",
    "                'Accuracy': accuracy\n",
    "            }, ignore_index=True)\n",
    "            \n",
    "    return performance_df"
   ]
  },
  {
   "cell_type": "code",
   "execution_count": 6,
   "id": "f5a05218",
   "metadata": {},
   "outputs": [],
   "source": [
    "def sample_equal_lowest_rows(df):\n",
    "    \n",
    "    # get lowest count\n",
    "    task_manip_groups = list(df.groupby(['Task', 'Manipulation']).groups.keys())\n",
    "    min_count = df.shape[0]\n",
    "    for i in range(len(task_manip_groups)):\n",
    "        min_count = min(min_count, df[\n",
    "            (df[\"Task\"] == task_manip_groups[i][0]) & \n",
    "            (df[\"Manipulation\"] == task_manip_groups[i][1])\n",
    "        ].shape[0])\n",
    "    \n",
    "    # selecting min_count rows for each group\n",
    "    new_df = pd.DataFrame(columns=df.columns)\n",
    "    for (task, manip) in task_manip_groups:\n",
    "        new_df = new_df.append(df[\n",
    "            (df[\"Task\"] == task) & \n",
    "            (df[\"Manipulation\"] == manip)\n",
    "        ].sample(min_count))\n",
    "    return new_df"
   ]
  },
  {
   "cell_type": "code",
   "execution_count": 7,
   "id": "d50c3400",
   "metadata": {},
   "outputs": [],
   "source": [
    "stroop_acc_df = accuracy_df_builder(stroop_df, stroop_arr, \"Stroop\")\n",
    "rdk_acc_df = accuracy_df_builder(rdk_df, rdk_arr, \"RDK\")\n",
    "bandit_acc_df = accuracy_df_builder(bandit_df, bandit_arr, \"Bandit\")\n",
    "\n",
    "performance_df = pd.concat([stroop_acc_df, rdk_acc_df, bandit_acc_df])\n",
    "\n",
    "# performance_df = performance_df.drop(performance_df[performance_df[\"Task\"] == \"Stroop\"].index)"
   ]
  },
  {
   "cell_type": "markdown",
   "id": "18ba5b73",
   "metadata": {},
   "source": [
    "#### Implementing the ANOVA model"
   ]
  },
  {
   "cell_type": "code",
   "execution_count": 8,
   "id": "a477e196",
   "metadata": {},
   "outputs": [
    {
     "data": {
      "text/html": [
       "<div>\n",
       "<style scoped>\n",
       "    .dataframe tbody tr th:only-of-type {\n",
       "        vertical-align: middle;\n",
       "    }\n",
       "\n",
       "    .dataframe tbody tr th {\n",
       "        vertical-align: top;\n",
       "    }\n",
       "\n",
       "    .dataframe thead th {\n",
       "        text-align: right;\n",
       "    }\n",
       "</style>\n",
       "<table border=\"1\" class=\"dataframe\">\n",
       "  <thead>\n",
       "    <tr style=\"text-align: right;\">\n",
       "      <th></th>\n",
       "      <th>index</th>\n",
       "      <th>Participant</th>\n",
       "      <th>Task</th>\n",
       "      <th>Manipulation</th>\n",
       "      <th>Accuracy</th>\n",
       "    </tr>\n",
       "  </thead>\n",
       "  <tbody>\n",
       "    <tr>\n",
       "      <th>0</th>\n",
       "      <td>65</td>\n",
       "      <td>7329300.0</td>\n",
       "      <td>Bandit</td>\n",
       "      <td>bonus</td>\n",
       "      <td>40.972222</td>\n",
       "    </tr>\n",
       "    <tr>\n",
       "      <th>1</th>\n",
       "      <td>69</td>\n",
       "      <td>7329491.0</td>\n",
       "      <td>Bandit</td>\n",
       "      <td>bonus</td>\n",
       "      <td>44.444444</td>\n",
       "    </tr>\n",
       "    <tr>\n",
       "      <th>2</th>\n",
       "      <td>66</td>\n",
       "      <td>7329411.0</td>\n",
       "      <td>Bandit</td>\n",
       "      <td>bonus</td>\n",
       "      <td>32.638889</td>\n",
       "    </tr>\n",
       "    <tr>\n",
       "      <th>3</th>\n",
       "      <td>67</td>\n",
       "      <td>7330762.0</td>\n",
       "      <td>Bandit</td>\n",
       "      <td>bonus</td>\n",
       "      <td>33.333333</td>\n",
       "    </tr>\n",
       "    <tr>\n",
       "      <th>4</th>\n",
       "      <td>13</td>\n",
       "      <td>7330641.0</td>\n",
       "      <td>Bandit</td>\n",
       "      <td>eyes</td>\n",
       "      <td>31.944444</td>\n",
       "    </tr>\n",
       "    <tr>\n",
       "      <th>...</th>\n",
       "      <td>...</td>\n",
       "      <td>...</td>\n",
       "      <td>...</td>\n",
       "      <td>...</td>\n",
       "      <td>...</td>\n",
       "    </tr>\n",
       "    <tr>\n",
       "      <th>67</th>\n",
       "      <td>8</td>\n",
       "      <td>7330681.0</td>\n",
       "      <td>Stroop</td>\n",
       "      <td>progressbar</td>\n",
       "      <td>96.875000</td>\n",
       "    </tr>\n",
       "    <tr>\n",
       "      <th>68</th>\n",
       "      <td>2</td>\n",
       "      <td>7330659.0</td>\n",
       "      <td>Stroop</td>\n",
       "      <td>vanilla</td>\n",
       "      <td>90.625000</td>\n",
       "    </tr>\n",
       "    <tr>\n",
       "      <th>69</th>\n",
       "      <td>3</td>\n",
       "      <td>7281187.0</td>\n",
       "      <td>Stroop</td>\n",
       "      <td>vanilla</td>\n",
       "      <td>97.916667</td>\n",
       "    </tr>\n",
       "    <tr>\n",
       "      <th>70</th>\n",
       "      <td>1</td>\n",
       "      <td>7330714.0</td>\n",
       "      <td>Stroop</td>\n",
       "      <td>vanilla</td>\n",
       "      <td>96.875000</td>\n",
       "    </tr>\n",
       "    <tr>\n",
       "      <th>71</th>\n",
       "      <td>0</td>\n",
       "      <td>7329455.0</td>\n",
       "      <td>Stroop</td>\n",
       "      <td>vanilla</td>\n",
       "      <td>89.062500</td>\n",
       "    </tr>\n",
       "  </tbody>\n",
       "</table>\n",
       "<p>72 rows × 5 columns</p>\n",
       "</div>"
      ],
      "text/plain": [
       "    index  Participant    Task Manipulation   Accuracy\n",
       "0      65    7329300.0  Bandit        bonus  40.972222\n",
       "1      69    7329491.0  Bandit        bonus  44.444444\n",
       "2      66    7329411.0  Bandit        bonus  32.638889\n",
       "3      67    7330762.0  Bandit        bonus  33.333333\n",
       "4      13    7330641.0  Bandit         eyes  31.944444\n",
       "..    ...          ...     ...          ...        ...\n",
       "67      8    7330681.0  Stroop  progressbar  96.875000\n",
       "68      2    7330659.0  Stroop      vanilla  90.625000\n",
       "69      3    7281187.0  Stroop      vanilla  97.916667\n",
       "70      1    7330714.0  Stroop      vanilla  96.875000\n",
       "71      0    7329455.0  Stroop      vanilla  89.062500\n",
       "\n",
       "[72 rows x 5 columns]"
      ]
     },
     "execution_count": 8,
     "metadata": {},
     "output_type": "execute_result"
    }
   ],
   "source": [
    "performance_df = performance_df.replace('rdk_', '', regex=True)\n",
    "performance_df = performance_df.replace('stroop_', '', regex=True)\n",
    "performance_df = performance_df.replace('bandit_', '', regex=True)\n",
    "\n",
    "performance_df = sample_equal_lowest_rows(performance_df)\n",
    "performance_df.reset_index(inplace=True)\n",
    "performance_df"
   ]
  },
  {
   "cell_type": "code",
   "execution_count": 9,
   "id": "39cc93cb",
   "metadata": {},
   "outputs": [
    {
     "data": {
      "image/png": "[encoded data removed]",
      "text/plain": [
       "<Figure size 864x576 with 2 Axes>"
      ]
     },
     "metadata": {
      "needs_background": "light"
     },
     "output_type": "display_data"
    }
   ],
   "source": [
    "fig = plt.figure(figsize=(12,8))\n",
    "plt.subplot(2, 1, 1)\n",
    "ax1 = sns.boxplot(x='Task', y='Accuracy', data=performance_df, color='#0db013')\n",
    "ax1 = sns.swarmplot(x=\"Task\", y=\"Accuracy\", data=performance_df, color='#b902a2')\n",
    "plt.subplot(2, 1, 2)\n",
    "ax2 = sns.boxplot(x='Manipulation', y='Accuracy', data=performance_df, color='#0db013')\n",
    "ax2 = sns.swarmplot(x=\"Manipulation\", y=\"Accuracy\", data=performance_df, color='#b902a2')\n",
    "plt.show()\n"
   ]
  },
  {
   "cell_type": "code",
   "execution_count": 10,
   "id": "3b47bc40",
   "metadata": {},
   "outputs": [
    {
     "name": "stdout",
     "output_type": "stream",
     "text": [
      "ShapiroResult(statistic=0.7269381284713745, pvalue=2.893928707781157e-10)\n"
     ]
    }
   ],
   "source": [
    "model = ols('Accuracy ~ Task + Manipulation + Task:Manipulation', data=performance_df).fit()\n",
    "print(stats.shapiro(model.resid))"
   ]
  },
  {
   "cell_type": "code",
   "execution_count": 11,
   "id": "4e776a7b",
   "metadata": {},
   "outputs": [
    {
     "data": {
      "text/html": [
       "<div>\n",
       "<style scoped>\n",
       "    .dataframe tbody tr th:only-of-type {\n",
       "        vertical-align: middle;\n",
       "    }\n",
       "\n",
       "    .dataframe tbody tr th {\n",
       "        vertical-align: top;\n",
       "    }\n",
       "\n",
       "    .dataframe thead th {\n",
       "        text-align: right;\n",
       "    }\n",
       "</style>\n",
       "<table border=\"1\" class=\"dataframe\">\n",
       "  <thead>\n",
       "    <tr style=\"text-align: right;\">\n",
       "      <th></th>\n",
       "      <th>sum_sq</th>\n",
       "      <th>df</th>\n",
       "      <th>F</th>\n",
       "      <th>PR(&gt;F)</th>\n",
       "    </tr>\n",
       "  </thead>\n",
       "  <tbody>\n",
       "    <tr>\n",
       "      <th>Task</th>\n",
       "      <td>31295.357187</td>\n",
       "      <td>2.0</td>\n",
       "      <td>161.180708</td>\n",
       "      <td>1.711173e-23</td>\n",
       "    </tr>\n",
       "    <tr>\n",
       "      <th>Manipulation</th>\n",
       "      <td>466.695239</td>\n",
       "      <td>5.0</td>\n",
       "      <td>0.961450</td>\n",
       "      <td>4.496030e-01</td>\n",
       "    </tr>\n",
       "    <tr>\n",
       "      <th>Task:Manipulation</th>\n",
       "      <td>1164.193173</td>\n",
       "      <td>10.0</td>\n",
       "      <td>1.199191</td>\n",
       "      <td>3.123946e-01</td>\n",
       "    </tr>\n",
       "    <tr>\n",
       "      <th>Residual</th>\n",
       "      <td>5242.405578</td>\n",
       "      <td>54.0</td>\n",
       "      <td>NaN</td>\n",
       "      <td>NaN</td>\n",
       "    </tr>\n",
       "  </tbody>\n",
       "</table>\n",
       "</div>"
      ],
      "text/plain": [
       "                         sum_sq    df           F        PR(>F)\n",
       "Task               31295.357187   2.0  161.180708  1.711173e-23\n",
       "Manipulation         466.695239   5.0    0.961450  4.496030e-01\n",
       "Task:Manipulation   1164.193173  10.0    1.199191  3.123946e-01\n",
       "Residual            5242.405578  54.0         NaN           NaN"
      ]
     },
     "execution_count": 11,
     "metadata": {},
     "output_type": "execute_result"
    }
   ],
   "source": [
    "sm.stats.anova_lm(model, typ=2)"
   ]
  },
  {
   "cell_type": "markdown",
   "id": "941bae60",
   "metadata": {},
   "source": [
    "#### Plotting Manipulations per Task"
   ]
  },
  {
   "cell_type": "code",
   "execution_count": 14,
   "id": "dabad6ca",
   "metadata": {},
   "outputs": [
    {
     "data": {
      "image/png": "[encoded data removed]",
      "text/plain": [
       "<Figure size 864x864 with 3 Axes>"
      ]
     },
     "metadata": {
      "needs_background": "light"
     },
     "output_type": "display_data"
    }
   ],
   "source": [
    "fig = plt.figure(figsize=(12,12))\n",
    "\n",
    "plt.subplot(3, 1, 1)\n",
    "stroop_performance_df = performance_df[performance_df[\"Task\"] == \"Stroop\"]\n",
    "ax1 = sns.boxplot(x='Manipulation', y='Accuracy', data=stroop_performance_df, color='#0db013')\n",
    "ax1 = sns.swarmplot(x=\"Manipulation\", y=\"Accuracy\", data=stroop_performance_df, color='#b902a2')\n",
    "ax1.set_title(\"Stroop\")\n",
    "\n",
    "plt.subplot(3, 1, 2)\n",
    "rdk_performance_df = performance_df[performance_df[\"Task\"] == \"RDK\"]\n",
    "ax2 = sns.boxplot(x='Manipulation', y='Accuracy', data=rdk_performance_df, color='#0db013')\n",
    "ax2 = sns.swarmplot(x=\"Manipulation\", y=\"Accuracy\", data=rdk_performance_df, color='#b902a2')\n",
    "ax2.set_title(\"RDK\")\n",
    "\n",
    "plt.subplot(3, 1, 3)\n",
    "bandit_performance_df = performance_df[performance_df[\"Task\"] == \"Bandit\"]\n",
    "ax3 = sns.boxplot(x='Manipulation', y='Accuracy', data=bandit_performance_df, color='#0db013')\n",
    "ax3 = sns.swarmplot(x=\"Manipulation\", y=\"Accuracy\", data=bandit_performance_df, color='#b902a2')\n",
    "ax3.set_title(\"Bandit\")\n",
    "\n",
    "fig.tight_layout()\n",
    "plt.show()"
   ]
  },
  {
   "cell_type": "code",
   "execution_count": null,
   "id": "8c72f4bc",
   "metadata": {},
   "outputs": [],
   "source": []
  }
 ],
 "metadata": {
  "kernelspec": {
   "display_name": "Python 3",
   "language": "python",
   "name": "python3"
  },
  "language_info": {
   "codemirror_mode": {
    "name": "ipython",
    "version": 3
   },
   "file_extension": ".py",
   "mimetype": "text/x-python",
   "name": "python",
   "nbconvert_exporter": "python",
   "pygments_lexer": "ipython3",
   "version": "3.9.7"
  }
 },
 "nbformat": 4,
 "nbformat_minor": 5
}
