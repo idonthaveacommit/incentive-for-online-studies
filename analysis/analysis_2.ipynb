{
 "cells": [
  {
   "cell_type": "code",
   "execution_count": 1,
   "id": "2324504f",
   "metadata": {},
   "outputs": [],
   "source": [
    "import matplotlib.pyplot as plt\n",
    "import numpy as np\n",
    "import pandas as pd\n",
    "import seaborn as sns\n",
    "import warnings\n",
    "warnings.simplefilter(action='ignore', category=FutureWarning)"
   ]
  },
  {
   "cell_type": "code",
   "execution_count": 2,
   "id": "a1e2343a",
   "metadata": {},
   "outputs": [],
   "source": [
    "# task dictionary\n",
    "task_dict = {\n",
    "    'stroop_vanilla': 'task-td7i',\n",
    "    'stroop_progressbar': 'task-lupf',\n",
    "    'stroop_eyes': 'task-c9op',\n",
    "#     'stroop_video': 'task-najf',\n",
    "    'stroop_posneg': 'task-on6n',\n",
    "    'stroop_final': 'task-7g42',\n",
    "    'stroop_bonus': 'task-3kpz',\n",
    "    'rdk_vanilla': 'task-2ywa',\n",
    "    'rdk_progressbar': 'task-sks3',\n",
    "    'rdk_eyes': 'task-zyvq',\n",
    "#     'rdk_video': 'task-6e3k',\n",
    "    'rdk_posneg': 'task-ivrk',\n",
    "    'rdk_final': 'task-sq3v',\n",
    "    'rdk_bonus': 'task-hvii',\n",
    "    'bandit_vanilla': 'task-dwkr',\n",
    "    'bandit_progressbar': 'task-25bt',\n",
    "    'bandit_eyes': 'task-x158',\n",
    "#     'bandit_video': 'task-9ndm',\n",
    "    'bandit_posneg': 'task-tzk1',\n",
    "    'bandit_final': 'task-gn7s',\n",
    "    'bandit_bonus': 'task-iaas',\n",
    "}\n",
    "\n",
    "# task-separated arrays\n",
    "# stroop_arr = [\"stroop_vanilla\", \"stroop_progressbar\", \"stroop_eyes\", \"stroop_video\", \"stroop_posneg\", \"stroop_final\", \"stroop_bonus\"]\n",
    "# rdk_arr = [\"rdk_vanilla\", \"rdk_progressbar\", \"rdk_eyes\", \"rdk_video\", \"rdk_posneg\", \"rdk_final\", \"rdk_bonus\"]\n",
    "# bandit_arr = [\"bandit_vanilla\", \"bandit_progressbar\", \"bandit_eyes\", \"bandit_video\", \"bandit_posneg\", \"bandit_final\", \"bandit_bonus\"]\n",
    "stroop_arr = [\"stroop_vanilla\", \"stroop_progressbar\", \"stroop_eyes\", \"stroop_posneg\", \"stroop_final\", \"stroop_bonus\"]\n",
    "rdk_arr = [\"rdk_vanilla\", \"rdk_progressbar\", \"rdk_eyes\", \"rdk_posneg\", \"rdk_final\", \"rdk_bonus\"]\n",
    "bandit_arr = [\"bandit_vanilla\", \"bandit_progressbar\", \"bandit_eyes\", \"bandit_posneg\", \"bandit_final\", \"bandit_bonus\"]"
   ]
  },
  {
   "cell_type": "code",
   "execution_count": 3,
   "id": "3c5c172e",
   "metadata": {},
   "outputs": [
    {
     "name": "stderr",
     "output_type": "stream",
     "text": [
      "C:\\Users\\Devank\\AppData\\Local\\Temp/ipykernel_13260/3807541422.py:7: DtypeWarning: Columns (0,58) have mixed types. Specify dtype option on import or set low_memory=False.\n",
      "  stroop_df = pd.read_csv('./data_exp_99963-v4/data_exp_99963-v4_' + task_dict[manip] + '.csv')\n",
      "C:\\Users\\Devank\\AppData\\Local\\Temp/ipykernel_13260/3807541422.py:22: DtypeWarning: Columns (0) have mixed types. Specify dtype option on import or set low_memory=False.\n",
      "  rdk_df = pd.read_csv('./data_exp_99963-v4/data_exp_99963-v4_' + task_dict[manip] + '.csv')\n",
      "C:\\Users\\Devank\\AppData\\Local\\Temp/ipykernel_13260/3807541422.py:37: DtypeWarning: Columns (0,58) have mixed types. Specify dtype option on import or set low_memory=False.\n",
      "  bandit_df = pd.read_csv('./data_exp_99963-v4/data_exp_99963-v4_' + task_dict[manip] + '.csv')\n"
     ]
    }
   ],
   "source": [
    "# creating stroop dataset\n",
    "# currently trying to get data from two different versions, hence two loops (will not be needed in real analysis)\n",
    "\n",
    "stroop_list = []\n",
    "\n",
    "for manip in stroop_arr:\n",
    "    stroop_df = pd.read_csv('./data_exp_99963-v4/data_exp_99963-v4_' + task_dict[manip] + '.csv')\n",
    "    stroop_df.drop(stroop_df[stroop_df['Event Index'] == 'END OF FILE'].index, inplace = True)\n",
    "    stroop_list.append(stroop_df)\n",
    "    \n",
    "# for manip in stroop_arr:\n",
    "#     stroop_df = pd.read_csv('./data_exp_96489-v3/data_exp_96489-v3_' + task_dict[manip] + '.csv')\n",
    "#     stroop_df.drop(stroop_df[stroop_df['Event Index'] == 'END OF FILE'].index, inplace = True)\n",
    "#     stroop_list.append(stroop_df)\n",
    "    \n",
    "stroop_df = pd.concat(stroop_list)\n",
    "\n",
    "# creating rdk dataset\n",
    "rdk_list = []\n",
    "\n",
    "for manip in rdk_arr:\n",
    "    rdk_df = pd.read_csv('./data_exp_99963-v4/data_exp_99963-v4_' + task_dict[manip] + '.csv')\n",
    "    rdk_df.drop(rdk_df[rdk_df['Event Index'] == 'END OF FILE'].index, inplace = True)\n",
    "    rdk_list.append(rdk_df)\n",
    "    \n",
    "# for manip in rdk_arr:\n",
    "#     rdk_df = pd.read_csv('./data_exp_96489-v3/data_exp_96489-v3_' + task_dict[manip] + '.csv')\n",
    "#     rdk_df.drop(rdk_df[rdk_df['Event Index'] == 'END OF FILE'].index, inplace = True)\n",
    "#     rdk_list.append(rdk_df)\n",
    "    \n",
    "rdk_df = pd.concat(rdk_list)\n",
    "\n",
    "# creating bandit dataset\n",
    "bandit_list = []\n",
    "\n",
    "for manip in bandit_arr:\n",
    "    bandit_df = pd.read_csv('./data_exp_99963-v4/data_exp_99963-v4_' + task_dict[manip] + '.csv')\n",
    "    bandit_df.drop(bandit_df[bandit_df['Event Index'] == 'END OF FILE'].index, inplace = True)\n",
    "    bandit_list.append(bandit_df)\n",
    "    \n",
    "# for manip in bandit_arr:\n",
    "#     bandit_df = pd.read_csv('./data_exp_96489-v3/data_exp_96489-v3_' + task_dict[manip] + '.csv')\n",
    "#     bandit_df.drop(bandit_df[bandit_df['Event Index'] == 'END OF FILE'].index, inplace = True)\n",
    "#     bandit_list.append(bandit_df)\n",
    "    \n",
    "bandit_df = pd.concat(bandit_list)"
   ]
  },
  {
   "cell_type": "code",
   "execution_count": 4,
   "id": "e37bd8df",
   "metadata": {},
   "outputs": [
    {
     "data": {
      "text/plain": [
       "task-tzk1    20632\n",
       "task-iaas     2285\n",
       "task-gn7s     2280\n",
       "task-dwkr     2270\n",
       "task-25bt     2270\n",
       "task-x158     2270\n",
       "Name: Tree Node Key, dtype: int64"
      ]
     },
     "execution_count": 4,
     "metadata": {},
     "output_type": "execute_result"
    }
   ],
   "source": [
    "bandit_df['Tree Node Key'].value_counts()"
   ]
  },
  {
   "cell_type": "markdown",
   "id": "37ec8c04",
   "metadata": {},
   "source": [
    "### I. BANDIT ACCURACY USING BEST ARM SELECTION"
   ]
  },
  {
   "cell_type": "code",
   "execution_count": 5,
   "id": "71b2c645",
   "metadata": {},
   "outputs": [],
   "source": [
    "response_mapper = {\n",
    "    \"left\": \"Stimuli 1\",\n",
    "    \"top\": \"Stimuli 2\",\n",
    "    \"right\": \"Stimuli 3\",\n",
    "    \"bottom\": \"Stimuli 4\"\n",
    "}"
   ]
  },
  {
   "cell_type": "code",
   "execution_count": 6,
   "id": "1a7bc23b",
   "metadata": {},
   "outputs": [],
   "source": [
    "def best_arm_accuracy_calculator():\n",
    "    accuracies = []\n",
    "    for manip in bandit_arr:\n",
    "\n",
    "        focus_df = bandit_df[bandit_df['Tree Node Key'] == task_dict[manip]]\n",
    "        participants = pd.unique(focus_df['Participant Private ID'])\n",
    "        overall_accuracy = 0.0\n",
    "        if participants.size < 1:\n",
    "            accuracies.append(overall_accuracy)\n",
    "            continue\n",
    "\n",
    "        for participant in participants:\n",
    "            participant_df = focus_df[focus_df['Participant Private ID'] == participant]\n",
    "            participant_df = participant_df[participant_df[\"Screen Name\"] == \"trial\"][[\"Response\", \"Best Choice\", \"Stimuli 1\", \"Stimuli 2\", \"Stimuli 3\", \"Stimuli 4\"]]\n",
    "            trial_count = len(participant_df)\n",
    "            participant_df = participant_df.replace({\"Response\": response_mapper}).dropna().reset_index()\n",
    "            participant_df[\"New\"] = participant_df.values[participant_df.index, participant_df.columns.get_indexer(participant_df[\"Response\"])]\n",
    "            correct_count = participant_df[\"New\"].eq(participant_df[\"Best Choice\"]).sum()\n",
    "            accuracy = correct_count / trial_count\n",
    "            overall_accuracy += accuracy\n",
    "\n",
    "        overall_accuracy /= participants.size\n",
    "        accuracies.append(overall_accuracy * 100)\n",
    "\n",
    "    return accuracies"
   ]
  },
  {
   "cell_type": "code",
   "execution_count": 7,
   "id": "2c5511ae",
   "metadata": {},
   "outputs": [
    {
     "data": {
      "image/png": "[encoded data removed]",
      "text/plain": [
       "<Figure size 864x576 with 1 Axes>"
      ]
     },
     "metadata": {
      "needs_background": "light"
     },
     "output_type": "display_data"
    }
   ],
   "source": [
    "bandit_best_arm_accuracies = best_arm_accuracy_calculator()\n",
    "\n",
    "fig, ax = plt.subplots(figsize=(12,8))\n",
    "plot = ax.bar(bandit_arr, bandit_best_arm_accuracies)\n",
    "ax.bar_label(plot)\n",
    "ax.set_title('Bandit Task: Accuracies (Best Arm Selection)')\n",
    "plt.show()"
   ]
  },
  {
   "cell_type": "code",
   "execution_count": 8,
   "id": "f6182f06",
   "metadata": {},
   "outputs": [],
   "source": [
    "def best_arm_accuracies_per_task(task):\n",
    "    \n",
    "    accuracies = []\n",
    "    task_arr = []\n",
    "\n",
    "    focus_df = bandit_df[bandit_df['Tree Node Key'] == task_dict[task]]\n",
    "    participants = pd.unique(focus_df['Participant Private ID'])\n",
    "\n",
    "    for participant in participants:\n",
    "        participant_df = focus_df[focus_df['Participant Private ID'] == participant]\n",
    "        participant_df = participant_df[participant_df[\"Screen Name\"] == \"trial\"][[\"Response\", \"Best Choice\", \"Stimuli 1\", \"Stimuli 2\", \"Stimuli 3\", \"Stimuli 4\"]]\n",
    "        trial_count = len(participant_df)\n",
    "        participant_df = participant_df.replace({\"Response\": response_mapper}).dropna().reset_index()\n",
    "        participant_df[\"New\"] = participant_df.values[participant_df.index, participant_df.columns.get_indexer(participant_df[\"Response\"])]\n",
    "        correct_count = participant_df[\"New\"].eq(participant_df[\"Best Choice\"]).sum()\n",
    "        \n",
    "        accuracy = correct_count / trial_count\n",
    "        accuracies.append(accuracy * 100)\n",
    "        task_arr.append(task)\n",
    "\n",
    "    return task_arr, accuracies"
   ]
  },
  {
   "cell_type": "code",
   "execution_count": 9,
   "id": "21b689bf",
   "metadata": {},
   "outputs": [
    {
     "data": {
      "text/plain": [
       "[Text(0.5, 1.0, 'Bandit Task: Best Arm Accuracies per Task')]"
      ]
     },
     "execution_count": 9,
     "metadata": {},
     "output_type": "execute_result"
    },
    {
     "data": {
      "image/png": "[encoded data removed]",
      "text/plain": [
       "<Figure size 864x576 with 1 Axes>"
      ]
     },
     "metadata": {
      "needs_background": "light"
     },
     "output_type": "display_data"
    }
   ],
   "source": [
    "bandit_accuracies = []\n",
    "bandit_tasks = []\n",
    "for manip in bandit_arr:\n",
    "    manip_arr, manip_acc = best_arm_accuracies_per_task(manip)\n",
    "    bandit_accuracies.append(manip_acc)\n",
    "    bandit_tasks.append(manip_arr)\n",
    "    \n",
    "bandit_accuracies = [item for sublist in bandit_accuracies for item in sublist]\n",
    "bandit_tasks = [item for sublist in bandit_tasks for item in sublist]\n",
    "bandit_acc_df = pd.DataFrame({'Task': bandit_tasks, 'Accuracy': bandit_accuracies})\n",
    "fig = plt.figure(figsize=(12,8))\n",
    "\n",
    "# sns.boxplot(data=bandit_acc_df, x = 'Task', y='Accuracy', hue='Task')\n",
    "sns.swarmplot(data=bandit_acc_df, x = 'Task', y='Accuracy', hue='Task').set(title=\"Bandit Task: Best Arm Accuracies per Task\")"
   ]
  },
  {
   "cell_type": "markdown",
   "id": "90f597b3",
   "metadata": {},
   "source": [
    "### II. EVOLUTION OF ACCURACY WITH EVERY BLOCK"
   ]
  },
  {
   "cell_type": "code",
   "execution_count": 10,
   "id": "5d076290",
   "metadata": {},
   "outputs": [],
   "source": [
    "def get_posneg_df(df, arr):\n",
    "    \n",
    "    final_list = []\n",
    "    manip = [m for m in arr if 'bonus' in m][0]\n",
    "    focus_df = df[df['Tree Node Key'] == task_dict[manip]]\n",
    "    participants = pd.unique(focus_df['Participant Private ID'])\n",
    "    \n",
    "    for participant in participants:\n",
    "        participant_df = focus_df[focus_df['Participant Private ID'] == participant]\n",
    "        participant_df = participant_df[participant_df['Screen Name'] == 'trial'][['Participant Private ID', \"Response\", \"Best Choice\", \"Stimuli 1\", \"Stimuli 2\", \"Stimuli 3\", \"Stimuli 4\"]]\n",
    "        participant_df[\"Participant Private ID\"].astype(str)\n",
    "        final_list.append(participant_df)\n",
    "    \n",
    "    return pd.concat(final_list)"
   ]
  },
  {
   "cell_type": "code",
   "execution_count": 11,
   "id": "918e2da6",
   "metadata": {},
   "outputs": [],
   "source": [
    "def results_per_participant_posneg(focus_df):\n",
    "    \n",
    "    results_posneg_df = pd.DataFrame(columns=['Participant', 'Block', 'Accuracy'])\n",
    "    participants = pd.unique(focus_df['Participant Private ID'])\n",
    "    \n",
    "    for participant in participants:\n",
    "        participant_df = focus_df[focus_df['Participant Private ID'] == participant]\n",
    "        first_index = 0\n",
    "        \n",
    "        for i in range(len(participant_df) // 16):\n",
    "            block_df = participant_df[first_index:first_index+16]\n",
    "            block_df = block_df.replace({\"Response\": response_mapper}).dropna().reset_index()\n",
    "            block_df[\"New\"] = block_df.values[block_df.index, block_df.columns.get_indexer(block_df[\"Response\"])]\n",
    "            correct_count = block_df[\"New\"].eq(block_df[\"Best Choice\"]).sum()\n",
    "            accuracy = correct_count / 16\n",
    "            \n",
    "            results_posneg_df = results_posneg_df.append({\n",
    "                'Participant': participant,\n",
    "                'Block': str(first_index/16),\n",
    "                'Accuracy': accuracy\n",
    "            }, ignore_index=True)\n",
    "            first_index += 16\n",
    "    \n",
    "    return results_posneg_df"
   ]
  },
  {
   "cell_type": "code",
   "execution_count": 12,
   "id": "022ce593",
   "metadata": {},
   "outputs": [],
   "source": [
    "bandit_posneg_df = get_posneg_df(bandit_df, bandit_arr)\n",
    "bandit_results_posneg_df = results_per_participant_posneg(bandit_posneg_df).groupby([\"Block\"]).mean().reset_index()"
   ]
  },
  {
   "cell_type": "code",
   "execution_count": 13,
   "id": "caeec28c",
   "metadata": {},
   "outputs": [
    {
     "data": {
      "image/png": "[encoded data removed]",
      "text/plain": [
       "<Figure size 432x288 with 1 Axes>"
      ]
     },
     "metadata": {
      "needs_background": "light"
     },
     "output_type": "display_data"
    }
   ],
   "source": [
    "plt.plot(bandit_results_posneg_df[\"Block\"], bandit_results_posneg_df[\"Accuracy\"])\n",
    "plt.title(\"Best Arm Accuracy with each block\")\n",
    "for a, b in zip(bandit_results_posneg_df[\"Block\"], bandit_results_posneg_df[\"Accuracy\"]): \n",
    "    plt.text(a, b, str(round(b, 2)))\n",
    "plt.show()"
   ]
  },
  {
   "cell_type": "markdown",
   "id": "c0dc471a",
   "metadata": {},
   "source": [
    "### III. DIVIDING ACCURACIES INTO DECILES"
   ]
  },
  {
   "cell_type": "code",
   "execution_count": 35,
   "id": "9d73cbf6",
   "metadata": {},
   "outputs": [],
   "source": [
    "def get_ordered_accuracies(df):\n",
    "    accuracies = []\n",
    "#     for manip in arr:\n",
    "\n",
    "#         focus_df = df[df['Tree Node Key'] == task_dict[manip]]\n",
    "    participants = df['Participant Private ID'].unique().tolist()\n",
    "\n",
    "    for participant in participants:\n",
    "        participant_df = df[df['Participant Private ID'] == participant]\n",
    "        participant_df = participant_df[participant_df['Screen Name'] == 'trial'][['Attempt', 'Correct', 'Incorrect']]\n",
    "        # for timeouts\n",
    "        participant_df['Attempt'].fillna(0, inplace = True)\n",
    "\n",
    "        if participant_df.empty:\n",
    "            participants.remove(participant)\n",
    "            continue\n",
    "\n",
    "        accuracy = participant_df['Correct'].sum() / len(participant_df)\n",
    "        accuracies.append(accuracy * 100)\n",
    "\n",
    "    return sorted(accuracies, reverse=True)"
   ]
  },
  {
   "cell_type": "code",
   "execution_count": 39,
   "id": "d54ae60e",
   "metadata": {},
   "outputs": [
    {
     "data": {
      "text/plain": [
       "[24.479166666666664,\n",
       " 91.484375,\n",
       " 94.66145833333333,\n",
       " 95.3125,\n",
       " 96.35416666666666,\n",
       " 96.875,\n",
       " 97.91666666666666,\n",
       " 98.4375,\n",
       " 98.95833333333334,\n",
       " 100.0]"
      ]
     },
     "execution_count": 39,
     "metadata": {},
     "output_type": "execute_result"
    }
   ],
   "source": [
    "stroop_accuracies = np.asarray(get_ordered_accuracies(stroop_df))\n",
    "stroop_decile_thresholds = []\n",
    "for i in [0, 15, 25, 35, 45, 55, 65, 75, 85, 100]:\n",
    "    stroop_decile_thresholds.append(np.percentile(stroop_accuracies, i))\n",
    "stroop_decile_thresholds"
   ]
  },
  {
   "cell_type": "code",
   "execution_count": 40,
   "id": "eea538c9",
   "metadata": {},
   "outputs": [
    {
     "data": {
      "text/plain": [
       "[50.69444444444444,\n",
       " 69.47916666666666,\n",
       " 72.04861111111111,\n",
       " 72.53472222222221,\n",
       " 74.40972222222223,\n",
       " 75.69444444444444,\n",
       " 77.08333333333334,\n",
       " 78.64583333333333,\n",
       " 79.82638888888889,\n",
       " 86.11111111111111]"
      ]
     },
     "execution_count": 40,
     "metadata": {},
     "output_type": "execute_result"
    }
   ],
   "source": [
    "rdk_accuracies = np.asarray(get_ordered_accuracies(rdk_df))\n",
    "rdk_decile_thresholds = []\n",
    "for i in [0, 15, 25, 35, 45, 55, 65, 75, 85, 100]:\n",
    "    rdk_decile_thresholds.append(np.percentile(rdk_accuracies, i))\n",
    "rdk_decile_thresholds"
   ]
  },
  {
   "cell_type": "code",
   "execution_count": 41,
   "id": "0cbc82c3",
   "metadata": {},
   "outputs": [
    {
     "data": {
      "text/plain": [
       "[30.555555555555557,\n",
       " 36.11111111111111,\n",
       " 39.75694444444444,\n",
       " 42.36111111111111,\n",
       " 43.05555555555556,\n",
       " 43.75,\n",
       " 46.423611111111114,\n",
       " 47.74305555555556,\n",
       " 51.388888888888886,\n",
       " 63.19444444444444]"
      ]
     },
     "execution_count": 41,
     "metadata": {},
     "output_type": "execute_result"
    }
   ],
   "source": [
    "bandit_accuracies = np.asarray(get_ordered_accuracies(bandit_df))\n",
    "bandit_decile_thresholds = []\n",
    "for i in [0, 15, 25, 35, 45, 55, 65, 75, 85, 100]:\n",
    "    bandit_decile_thresholds.append(np.percentile(bandit_accuracies, i))\n",
    "bandit_decile_thresholds"
   ]
  },
  {
   "cell_type": "code",
   "execution_count": null,
   "id": "bbd74cef",
   "metadata": {},
   "outputs": [],
   "source": []
  }
 ],
 "metadata": {
  "kernelspec": {
   "display_name": "Python 3",
   "language": "python",
   "name": "python3"
  },
  "language_info": {
   "codemirror_mode": {
    "name": "ipython",
    "version": 3
   },
   "file_extension": ".py",
   "mimetype": "text/x-python",
   "name": "python",
   "nbconvert_exporter": "python",
   "pygments_lexer": "ipython3",
   "version": "3.9.7"
  }
 },
 "nbformat": 4,
 "nbformat_minor": 5
}
